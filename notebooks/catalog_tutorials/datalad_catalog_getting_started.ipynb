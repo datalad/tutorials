{
 "cells": [
  {
   "cell_type": "markdown",
   "id": "483b1828",
   "metadata": {},
   "source": [
    "<div style=\"text-align:center;\">\n",
    "    <img src=\"./pics/datacat_logo.svg\" width=\"80%\"></img>\n",
    "    <br>\n",
    "    <br>\n",
    "    <h1 >Tutorial 1: Getting started with DataLad Catalog</h1>\n",
    "</div>\n",
    "\n",
    "### Quick Links:\n",
    "\n",
    "- [DataLad Catalog primer](./datalad_catalog_primer.md)\n",
    "- [DataLad Catalog demo site](https://datalad.github.io/datalad-catalog/)\n",
    "- [3-minute explainer video](https://www.youtube.com/watch?v=4GERwj49KFc)\n",
    "- [DataLad Catalog code repository](https://github.com/datalad/datalad-catalog)\n",
    "- [DataLad Catalog documentation](http://docs.datalad.org/projects/catalog/en/latest/?badge=latest)\n",
    "- [DataLad website](https://www.datalad.org/)\n",
    "- [DataLad code repository](https://github.com/datalad/datalad)\n",
    "- [DataLad MetaLad code repository](https://github.com/datalad/datalad-metalad)\n",
    "\n",
    "### Tutorial goals\n",
    "\n",
    "This tutorial guides you through the process of installing DataLad Catalog and getting to know its basic functionality. After you've gone through these steps, you should be able to create your own data catalog from structured metadata.\n",
    "\n",
    "### Tutorial prerequisites\n",
    "\n",
    "If you are not familiar with DataLad Catalog and its function in the wider DataLad ecosystem, it is recommended that you first read [DataLad Catalog - A primer](./datalad_catalog_primer.ipynb), although this is not strictly required before continuing with this tutorial.\n",
    "\n",
    "### Sections\n",
    "\n",
    "1. [Install DataLad Catalog](#install)\n",
    "2. [The main catalog functionality](#main_commands):\n",
    "   1. [Create a new catalog](#catalog_create)\n",
    "   2. [Render a catalog locally](#catalog_serve)\n",
    "   3. [Adding catalog metadata](#catalog_add)\n",
    "   4. [Setting the default dataset of a catalog](#catalog_super)\n",
    "   5. [Catalog configuration](#catalog_config)\n",
    "   6. [Removing catalog metadata](#catalog_remove)\n"
   ]
  },
  {
   "cell_type": "markdown",
   "id": "c6b51458",
   "metadata": {},
   "source": [
    "<div id=\"install\"></div>\n",
    "\n",
    "# 1. Install DataLad Catalog\n",
    "\n",
    "DataLad Catalog is a free and open source command line tool that has a Python API and is available for installation via [PyPI](https://pypi.org/). Let's start by creating and activating a new and empty virtual environment:"
   ]
  },
  {
   "cell_type": "code",
   "execution_count": 1,
   "id": "73495922",
   "metadata": {},
   "outputs": [],
   "source": [
    "python -m venv my_catalog_env"
   ]
  },
  {
   "cell_type": "code",
   "execution_count": 2,
   "id": "cee57759",
   "metadata": {},
   "outputs": [
    {
     "name": "stdout",
     "output_type": "stream",
     "text": [
      "(my_catalog_env) "
     ]
    },
    {
     "ename": "",
     "evalue": "1",
     "output_type": "error",
     "traceback": []
    }
   ],
   "source": [
    "source my_catalog_env/bin/activate"
   ]
  },
  {
   "cell_type": "markdown",
   "id": "e6151319",
   "metadata": {},
   "source": [
    "Now we can clone `datalad-catalog` and install it with `pip`. This will also install `datalad` and other dependencies."
   ]
  },
  {
   "cell_type": "code",
   "execution_count": 3,
   "id": "b73ac444",
   "metadata": {},
   "outputs": [
    {
     "name": "stdout",
     "output_type": "stream",
     "text": [
      "Cloning into 'datalad-catalog'...\n",
      "remote: Enumerating objects: 2285, done.\u001b[K\n",
      "remote: Counting objects: 100% (1363/1363), done.\u001b[K\n",
      "remote: Compressing objects: 100% (915/915), done.\u001b[K\n",
      "remote: Total 2285 (delta 568), reused 1208 (delta 430), pack-reused 922\u001b[K\n",
      "Receiving objects: 100% (2285/2285), 5.24 MiB | 2.17 MiB/s, done.\n",
      "Resolving deltas: 100% (1098/1098), done.\n",
      "(my_catalog_env) (my_catalog_env) Obtaining file:///Users/jsheunis/Documents/psyinf/tutorials/notebooks/catalog_tutorials/datalad-catalog\n",
      "  Installing build dependencies ... \u001b[?25ldone\n",
      "\u001b[?25h  Checking if build backend supports build_editable ... \u001b[?25ldone\n",
      "\u001b[?25h  Getting requirements to build wheel ... \u001b[?25ldone\n",
      "\u001b[?25h  Preparing metadata (pyproject.toml) ... \u001b[?25ldone\n",
      "\u001b[?25hCollecting datalad-metalad>=0.3.2\n",
      "  Using cached datalad_metalad-0.3.2-py3-none-any.whl (133 kB)\n",
      "Collecting datalad>=0.16\n",
      "  Using cached datalad-0.16.4-py3-none-any.whl (1.4 MB)\n",
      "Collecting jsonschema\n",
      "  Using cached jsonschema-4.6.0-py3-none-any.whl (80 kB)\n",
      "Collecting keyrings.alt\n",
      "  Using cached keyrings.alt-4.1.0-py3-none-any.whl (20 kB)\n",
      "Collecting msgpack\n",
      "  Using cached msgpack-1.0.4-cp39-cp39-macosx_10_9_x86_64.whl (75 kB)\n",
      "Collecting simplejson\n",
      "  Using cached simplejson-3.17.6-cp39-cp39-macosx_10_9_x86_64.whl (74 kB)\n",
      "Collecting iso8601\n",
      "  Using cached iso8601-1.0.2-py3-none-any.whl (9.7 kB)\n",
      "Collecting importlib-metadata>=3.6\n",
      "  Using cached importlib_metadata-4.11.4-py3-none-any.whl (18 kB)\n",
      "Collecting humanize\n",
      "  Using cached humanize-4.1.0-py3-none-any.whl (101 kB)\n",
      "Collecting whoosh\n",
      "  Using cached Whoosh-2.7.4-py2.py3-none-any.whl (468 kB)\n",
      "Collecting platformdirs\n",
      "  Using cached platformdirs-2.5.2-py3-none-any.whl (14 kB)\n",
      "Collecting fasteners>=0.14\n",
      "  Using cached fasteners-0.17.3-py3-none-any.whl (18 kB)\n",
      "Collecting python-gitlab\n",
      "  Using cached python_gitlab-3.5.0-py3-none-any.whl (122 kB)\n",
      "Collecting requests>=1.2\n",
      "  Using cached requests-2.27.1-py2.py3-none-any.whl (63 kB)\n",
      "Collecting tqdm\n",
      "  Using cached tqdm-4.64.0-py2.py3-none-any.whl (78 kB)\n",
      "Collecting chardet>=3.0.4\n",
      "  Using cached chardet-4.0.0-py2.py3-none-any.whl (178 kB)\n",
      "Collecting annexremote\n",
      "  Using cached annexremote-1.6.0-py3-none-any.whl (25 kB)\n",
      "Collecting patool>=1.7\n",
      "  Using cached patool-1.12-py2.py3-none-any.whl (77 kB)\n",
      "Collecting distro\n",
      "  Using cached distro-1.7.0-py3-none-any.whl (20 kB)\n",
      "Collecting boto\n",
      "  Using cached boto-2.49.0-py2.py3-none-any.whl (1.4 MB)\n",
      "Collecting packaging\n",
      "  Using cached packaging-21.3-py3-none-any.whl (40 kB)\n",
      "Collecting keyring>=20.0\n",
      "  Using cached keyring-23.5.1-py3-none-any.whl (33 kB)\n",
      "Collecting datalad-metadata-model<0.4.0,>=0.3.0\n",
      "  Using cached datalad_metadata_model-0.3.0-py3-none-any.whl (77 kB)\n",
      "Collecting six\n",
      "  Using cached six-1.16.0-py2.py3-none-any.whl (11 kB)\n",
      "Collecting pyyaml\n",
      "  Using cached PyYAML-6.0-cp39-cp39-macosx_10_9_x86_64.whl (197 kB)\n",
      "Collecting pyrsistent!=0.17.0,!=0.17.1,!=0.17.2,>=0.14.0\n",
      "  Using cached pyrsistent-0.18.1-cp39-cp39-macosx_10_9_universal2.whl (81 kB)\n",
      "Collecting attrs>=17.4.0\n",
      "  Using cached attrs-21.4.0-py2.py3-none-any.whl (60 kB)\n",
      "Collecting click\n",
      "  Using cached click-8.1.3-py3-none-any.whl (96 kB)\n",
      "Collecting dataclasses\n",
      "  Using cached dataclasses-0.6-py3-none-any.whl (14 kB)\n",
      "Collecting appdirs\n",
      "  Using cached appdirs-1.4.4-py2.py3-none-any.whl (9.6 kB)\n",
      "Collecting zipp>=0.5\n",
      "  Using cached zipp-3.8.0-py3-none-any.whl (5.4 kB)\n",
      "Collecting certifi>=2017.4.17\n",
      "  Using cached certifi-2022.5.18.1-py3-none-any.whl (155 kB)\n",
      "Collecting urllib3<1.27,>=1.21.1\n",
      "  Using cached urllib3-1.26.9-py2.py3-none-any.whl (138 kB)\n",
      "Collecting idna<4,>=2.5\n",
      "  Using cached idna-3.3-py3-none-any.whl (61 kB)\n",
      "Collecting charset-normalizer~=2.0.0\n",
      "  Using cached charset_normalizer-2.0.12-py3-none-any.whl (39 kB)\n",
      "Collecting pyparsing!=3.0.5,>=2.0.2\n",
      "  Using cached pyparsing-3.0.9-py3-none-any.whl (98 kB)\n",
      "Collecting requests-toolbelt>=0.9.1\n",
      "  Using cached requests_toolbelt-0.9.1-py2.py3-none-any.whl (54 kB)\n",
      "Installing collected packages: whoosh, patool, msgpack, dataclasses, boto, appdirs, annexremote, zipp, urllib3, tqdm, six, simplejson, pyyaml, pyrsistent, pyparsing, platformdirs, keyrings.alt, iso8601, idna, humanize, fasteners, distro, click, charset-normalizer, chardet, certifi, attrs, requests, packaging, jsonschema, importlib-metadata, datalad-metadata-model, requests-toolbelt, keyring, python-gitlab, datalad, datalad-metalad, datalad-catalog\n",
      "  Running setup.py develop for datalad-catalog\n",
      "Successfully installed annexremote-1.6.0 appdirs-1.4.4 attrs-21.4.0 boto-2.49.0 certifi-2022.5.18.1 chardet-4.0.0 charset-normalizer-2.0.12 click-8.1.3 dataclasses-0.6 datalad-0.16.4 datalad-catalog-0+untagged.169.g6ce60e8 datalad-metadata-model-0.3.0 datalad-metalad-0.3.2 distro-1.7.0 fasteners-0.17.3 humanize-4.1.0 idna-3.3 importlib-metadata-4.11.4 iso8601-1.0.2 jsonschema-4.6.0 keyring-23.5.1 keyrings.alt-4.1.0 msgpack-1.0.4 packaging-21.3 patool-1.12 platformdirs-2.5.2 pyparsing-3.0.9 pyrsistent-0.18.1 python-gitlab-3.5.0 pyyaml-6.0 requests-2.27.1 requests-toolbelt-0.9.1 simplejson-3.17.6 six-1.16.0 tqdm-4.64.0 urllib3-1.26.9 whoosh-2.7.4 zipp-3.8.0\n",
      "\u001b[33mWARNING: You are using pip version 22.0.4; however, version 22.1.2 is available.\n",
      "You should consider upgrading via the '/Users/jsheunis/Documents/psyinf/tutorials/notebooks/catalog_tutorials/my_catalog_env/bin/python -m pip install --upgrade pip' command.\u001b[0m\u001b[33m\n",
      "\u001b[0m(my_catalog_env) (my_catalog_env) "
     ]
    },
    {
     "ename": "",
     "evalue": "1",
     "output_type": "error",
     "traceback": []
    }
   ],
   "source": [
    "git clone https://github.com/datalad/datalad-catalog.git\n",
    "cd datalad-catalog\n",
    "pip install -e .\n",
    "cd .."
   ]
  },
  {
   "cell_type": "markdown",
   "id": "91151782",
   "metadata": {},
   "source": [
    "After that, you can check the installation by running the `datalad catalog` command with the `--help` flag:"
   ]
  },
  {
   "cell_type": "code",
   "execution_count": 4,
   "id": "bcdfbee3",
   "metadata": {},
   "outputs": [
    {
     "name": "stdout",
     "output_type": "stream",
     "text": [
      "Usage: datalad catalog [-h] [-c CATALOG_DIR] [-m METADATA] [-i DATASET_ID]\n",
      "                       [-v DATASET_VERSION] [-f] [-y CONFIG_FILE] [--version]\n",
      "                       {create|add|remove|serve|set-super|validate}\n",
      "\n",
      "Generate web-browser-based user interface for browsing metadata of a \n",
      "DataLad dataset.\n",
      "\n",
      "(Long description of arbitrary volume.)\n",
      "\n",
      "positional arguments:\n",
      "  {create|add|remove|serve|set-super|validate}\n",
      "                        This is the subcommand to be executed by datalad-\n",
      "                        catalog. Options include: create, add, remove, serve,\n",
      "                        set-super, and validate. Example: ''. Constraints:\n",
      "                        value must be one of ('create', 'add', 'remove',\n",
      "                        'serve', 'set-super', 'validate')\n",
      "\n",
      "optional arguments:\n",
      "  -h, --help, --help-np\n",
      "                        show this help message. --help-np forcefully disables\n",
      "                        the use of a pager for displaying the help message\n",
      "  -c CATALOG_DIR, --catalog-dir CATALOG_DIR\n",
      "                        Directory where the catalog is located or will be\n",
      "                        created. Example: ''.\n",
      "  -m METADATA, --metadata METADATA\n",
      "                        Path to input metadata. Multiple input types are\n",
      "                        possible: - A '.json' file containing an array of JSON\n",
      "                        objects related to a single datalad dataset. - A\n",
      "                        stream of JSON objects/lines Example: ''.\n",
      "  -i DATASET_ID, --dataset-id DATASET_ID\n",
      "                        Example: ''.\n",
      "  -v DATASET_VERSION, --dataset-version DATASET_VERSION\n",
      "                        Example: ''.\n",
      "  -f, --force           If content for the user interface already exists in\n",
      "                        the catalog directory, force this content to be\n",
      "                        overwritten. Content overwritten with this flag\n",
      "                        include the 'artwork' and 'assets' directories and the\n",
      "                        'index.html' and 'config.json' files. Content in the\n",
      "                        'metadata' directory remain untouched. Example: ''.\n",
      "  -y CONFIG_FILE, --config-file CONFIG_FILE\n",
      "                        Path to config file in YAML or JSON format. Default\n",
      "                        config is read from\n",
      "                        datalad_catalog/templates/config.json Example: ''.\n",
      "  --version             show the module and its version which provides the\n",
      "                        command\n",
      "(my_catalog_env) "
     ]
    },
    {
     "ename": "",
     "evalue": "1",
     "output_type": "error",
     "traceback": []
    }
   ],
   "source": [
    "datalad catalog --help"
   ]
  },
  {
   "cell_type": "markdown",
   "id": "2157c76d",
   "metadata": {},
   "source": [
    "You might be wondering why the catalog command is preceded by `datalad` as in `datalad catalog <command>`. DataLad Catalog is an extension of [DataLad](https://github.com/datalad), which provides base functionality that the catalog generation process uses. It is installed as a dependency during the installation of DataLad Catalog, and provides supporting functionality during the catalog generation process. Feel free to explore DataLad's capabilities with `datalad --help`."
   ]
  },
  {
   "cell_type": "markdown",
   "id": "f758d987",
   "metadata": {},
   "source": [
    "<div id=\"main_commands\"></div>\n",
    "\n",
    "# 2. The main catalog functionality\n",
    "\n",
    "As you likely saw in the `--help` information, DataLad Catalog has several main commands to support the process of catalog generation. These include:\n",
    "\n",
    "- `create`: create a new catalog\n",
    "- `add`: add metadata to a catalog\n",
    "- `remove`: remove metadata from a catalog\n",
    "- `serve`: serve the catalog locally on an http server for testing/viewing purposes\n",
    "- `set-super`: set the so-called super dataset of the catalog, i.e. the dataset that will be displayed when navigating to the root URL of the catalog\n",
    "- `validate`: validate metadata according the to catalog schema\n",
    "\n",
    "Below you are taken through several steps showing how to use these commands and their supporting flags.\n",
    "\n",
    "<div id=\"catalog_create\"></div>\n",
    "\n",
    "## 2.1. Create a new catalog: `datalad catalog create`\n",
    "\n",
    "With this command, you can create a new catalog. Let's try it out!"
   ]
  },
  {
   "cell_type": "code",
   "execution_count": 5,
   "id": "fa8fc42b",
   "metadata": {},
   "outputs": [
    {
     "name": "stdout",
     "output_type": "stream",
     "text": [
      "(my_catalog_env) (my_catalog_env) \u001b[1;1mcatalog create\u001b[0m(\u001b[1;32mok\u001b[0m): /Users/jsheunis/Documents/psyinf/tutorials/notebooks/catalog_tutorials [Catalog successfully created at: /Users/jsheunis/Documents/psyinf/tutorials/notebooks/catalog_tutorials/test_catalog]\n",
      "(my_catalog_env) "
     ]
    },
    {
     "ename": "",
     "evalue": "1",
     "output_type": "error",
     "traceback": []
    }
   ],
   "source": [
    "WORKING_DIRECTORY=$(pwd)\n",
    "CATALOG_PATH=\"$WORKING_DIRECTORY/test_catalog\"\n",
    "datalad catalog create -c $CATALOG_PATH"
   ]
  },
  {
   "cell_type": "markdown",
   "id": "99760e75",
   "metadata": {},
   "source": [
    "The `catalog create(ok)` results shows that the catalog was successfully created at the specified location, wich was passed to the command with the `-c/--catalog-dir` flag.\n",
    "\n",
    "We can inspect the catalog's content with the `tree` command."
   ]
  },
  {
   "cell_type": "code",
   "execution_count": 6,
   "id": "c80ab275",
   "metadata": {},
   "outputs": [
    {
     "name": "stdout",
     "output_type": "stream",
     "text": [
      "(my_catalog_env) .\n",
      "├── artwork\n",
      "│   ├── 404.svg\n",
      "│   ├── binder_logo.svg\n",
      "│   ├── catalog_logo.svg\n",
      "│   ├── datalad_catalog_logo_1_dark.svg\n",
      "│   ├── datalad_catalog_logo_1_light.svg\n",
      "│   └── datalad_logo_wide.svg\n",
      "├── assets\n",
      "│   ├── favicon\n",
      "│   │   ├── favicon-16x16.png\n",
      "│   │   ├── favicon-32x32.png\n",
      "│   │   └── favicon.ico\n",
      "│   ├── md5-2.3.0.js\n",
      "│   ├── style.css\n",
      "│   └── vue_app.js\n",
      "├── config.json\n",
      "├── index.html\n",
      "└── metadata\n",
      "\n",
      "4 directories, 14 files\n",
      "(my_catalog_env) (my_catalog_env) "
     ]
    },
    {
     "ename": "",
     "evalue": "1",
     "output_type": "error",
     "traceback": []
    }
   ],
   "source": [
    "cd $CATALOG_PATH\n",
    "tree\n",
    "cd .."
   ]
  },
  {
   "cell_type": "markdown",
   "id": "6cfed904",
   "metadata": {},
   "source": [
    "As you can see, the catalog's root directory contains subdirectories for:\n",
    "- *artwork*: images that make the catalog pretty\n",
    "- *assets*: mainly the JavaScript and CSS code that underlie the user interface of the catalog.\n",
    "- *metadata*: this is where metadata content for any datasets and files rendered by the catalog will be contained\n",
    "\n",
    "It also contains an `index.html` files, which is the main catalog HTML content that will be served to users in their browsers, as wel as a `config.json` file, which contains default and user-specified configuration settings for the browser. These directories and files are all populated into their respective locations by the `datalad catalog create` command.\n",
    "\n",
    "Let's have a look at the catalog that you just created.\n",
    "\n",
    "<div id=\"catalog_serve\"></div>\n",
    "\n",
    "## 2.2. Render a catalog locally: `datalad catalog serve`\n",
    "\n",
    "Since the catalog contains HTML, JavaScript, and CSS that can be viewed in any common browser (Google Chrome, Safari, Mozilla Firefox, etc), this content needs to be served.\n",
    "\n",
    "With the `serve` command, you can serve the content of a catalog locally via an HTTP server. \n",
    "\n",
    "If you are running the code of this tutorial on your own system (i.e. not from within the Jupyter environment), you can do that as follows:\n",
    "\n",
    "```bash\n",
    "datalad catalog serve -c $CATALOG_NAME\n",
    "\n",
    "```\n",
    "\n",
    "In the Jupyter environment, we can open a new HTTP Server window to achieve the same outcome. If you're using JupyterLab, you can open a new Launcher window from the main menu bar, and then click on the HTTP Server option. If you're running a Jupyter Notebook environment, you can select \"New\" in the top right of the tree view, and then select \"HTTP Server\" from the dropdown menu.\n",
    "\n",
    "\n",
    "<br>\n",
    "<div style=\"display: flex; border: 1px solid grey\">\n",
    "    <div style=\"flex: 50%; border: 1px solid black\">\n",
    "        <img src=\"./pics/open_server_lab1.png\" width=\"70%\"></img>\n",
    "    </div>\n",
    "    <div style=\"flex: 50%; border: 1px solid black\">\n",
    "        <img src=\"./pics/open_server_lab2.png\" width=\"55%\"></img>\n",
    "    </div>\n",
    "</div>\n",
    "\n",
    "<div style=\"text-align:center;\">\n",
    "    <h5>Opening a new HTTP Server window in JupyterLab</h5>\n",
    "</div>\n",
    "\n",
    "<br>\n",
    "<br>\n",
    "<div style=\"text-align:center;\">\n",
    "    <img src=\"./pics/open_server_notebook.png\" width=\"20%\" style=\"border: 1px solid black\"></img>\n",
    "    <h5>Opening a new HTTP Server window in Jupter Notebook</h5>\n",
    "</div>\n",
    "\n",
    "\n",
    "Once the content is served, you can visit the local URL to view the catalog. On your own system, this should be at http://localhost:8000/. From the Jupyter environment, you should see the directory tree of your current directory, which should include the `test_catalog` that you created previously:\n",
    "\n",
    "<br>\n",
    "<div style=\"text-align:center;\">\n",
    "    <img src=\"./pics/http_server_testcatalog.png\" width=\"50%\" style=\"border: 1px solid black\"></img>\n",
    "    <h5>The directory tree rendered via the HTTP Server</h5>\n",
    "</div>\n",
    "\n",
    "If you navigate to the `test_catalog` directory, the catalog should be rendered. You should see the 404 page, since there is no metadata in the catalog yet. (Don't worry, that will change soon!)\n",
    "\n",
    "<br>\n",
    "<div style=\"text-align:center;\">\n",
    "    <img src=\"./pics/404.png\" width=\"60%\" style=\"border: 1px solid black\"></img>\n",
    "    <h5>The rendered catalog, here showing the 404 page</h5>\n",
    "</div>\n",
    "\n",
    "If you press the browser's back button until you see the directory tree again, and then navigate to `datalad-catalog/datalad_catalog`, the fully functional demo catalog should be rendered. This is the same as the demo catalog hosted here: https://datalad.github.io/datalad-catalog/"
   ]
  },
  {
   "cell_type": "markdown",
   "id": "841895bc",
   "metadata": {},
   "source": [
    "<div id=\"catalog_add\"></div>\n",
    "\n",
    "## 2.3. Adding catalog metadata\n",
    "\n",
    "The catalog is, of course, only as useful as the metadata that is contained within it. So let's add some! This can easily be done with the `add` command and `-m/--metadata` flag:\n",
    "\n",
    "```bash\n",
    "datalad catalog add -c $CATALOG_PATH -m <path_to_metadata_file>\n",
    "```\n",
    "\n",
    "At the time of creating this tutorial, DataLad Catalog accepts metadata input in the form of json lines, i.e. a text file (typically, `.json`, `.jsonl`, or `.txt`) where each line is a single, correctly formatted, JSON object.\n",
    "\n",
    "\n",
    "### 2.3.1. The Catalog Schema\n",
    "\n",
    "Each JSON object provided to the Catalog in the metadata file should be structured according to the Catalog schema, which is based on [JSON Schema](https://json-schema.org/): a vocabulary that allows you to annotate and validate JSON documents.\n",
    "\n",
    "The implication is that you will have to format your metadata objects to conform to this standard. At the core of this standard are the concepts of a **dataset** and a **file**, which shouldn't be suprising to anyone working with data: we have a set of files organized in some kind of hierarchy, and sets of files are often delineated from other sets of files (here we call this delineation a *dataset*). There are a few core specifications of metadata objects within the context of the Catalog schema:\n",
    "\n",
    "1. A metadata object can only be about a dataset or a file (its `type`).\n",
    "2. Each metadata object has multiple \"key/value\"-pairs that describe it. For example, an object of type `dataset` might have a `name` (key) equal to `my_test_dataset` (value), and a `keywords` field equal to the list `[\"quick\", \"brown\", \"fox\"]` (value). An object of type `file` might have a `format` (key) equal to `JSON` (value).\n",
    "3. Each metadata object should have a way to identify its related dataset. For an object of type `dataset`, this will be the `dataset_id` and `dataset_version` of the actual dataset. For an object of type `file`, this will be the `dataset_id` and `dataset_version` of its parent dataset (i.e. the dataset which the file forms part of).\n",
    "4. Each metadata object of type `file` should have a `path` key for which the value specifies exactly where the file is located relative to the root directory of its parent dataset.\n",
    "5. Datasets can have subdatasets.\n",
    "6. The Catalog schema specifies exactly which fields are required and which data types are accepted for each key/value-pair.\n",
    "\n",
    "For an improved understanding of the Catalog schema, you can inspect the [JSON documents here](https://github.com/datalad/datalad-catalog/tree/main/datalad_catalog/templates) (`jsonschema_*`)\n",
    "\n",
    "Here is a toy example of three metadata objects.\n",
    "\n",
    "First a dataset:\n",
    "\n",
    "```json\n",
    "{\n",
    "    \"type\": \"dataset\",\n",
    "    \"dataset_id\":\"abcd\",\n",
    "    \"dataset_version\":\"1234\",\n",
    "    \"name\": \"My toy dataset\",\n",
    "    \"short_name\": \"My toy dataset\",\n",
    "    \"description\": \"Lorem ipsum dolor sit amet, consectetur adipiscing elit. Phasellus nec justo tellus. Nunc sagittis eleifend magna, eu blandit arcu tincidunt eu. Mauris pharetra justo nec volutpat euismod. Curabitur bibendum vitae nunc a pharetra. Donec non rhoncus risus, ac consequat purus. Pellentesque ultricies ut enim non luctus. Sed viverra dolor enim, sed blandit lorem interdum sit amet. Aenean tincidunt et dolor sit amet tincidunt. Vivamus in sollicitudin ligula. Curabitur volutpat sapien erat, eget consectetur mauris dapibus a. Phasellus fringilla justo ligula, et fringilla tortor ullamcorper id. Praesent tristique lacus purus, eu convallis quam vestibulum eget. Donec ullamcorper mi neque, vel tincidunt augue porttitor vel.\",\n",
    "    \"doi\": \"\",\n",
    "    \"url\": [\"https://github.com/jsheunis/multi-echo-super\"],\n",
    "    \"license\": {\n",
    "      \"name\": \"CC BY 4.0\",\n",
    "      \"url\": \"https://creativecommons.org/licenses/by/4.0/\"\n",
    "    },\n",
    "    \"authors\": [\n",
    "        {\n",
    "            \"givenName\":\"Stephan\",\n",
    "            \"familyName\":\"Heunis\",\n",
    "        }\n",
    "    ],\n",
    "    \"keywords\": [\"lorum\", \"ipsum\", \"foxes\"],\n",
    "    \"funding\": [\n",
    "        {\n",
    "            \"name\":\"Stephan's Bank Account\",\n",
    "            \"identifier\":\"No. 42\",\n",
    "            \"description\":\"Nothing to see here\"\n",
    "        }\n",
    "    ],\n",
    "    \"extractors_used\": [\n",
    "        {\n",
    "            \"extractor_name\": \"stephan_manual\",\n",
    "            \"extractor_version\": \"1\",\n",
    "            \"extraction_parameter\": {},\n",
    "            \"extraction_time\": 1652340647.0,\n",
    "            \"agent_name\": \"Stephan Heunis\",\n",
    "            \"agent_email\": \"\"\n",
    "        }\n",
    "    ]\n",
    "}\n",
    "```\n",
    "\n",
    "And then two of its files:\n",
    "\n",
    "```json\n",
    "{\n",
    "    \"type\": \"file\"\n",
    "    \"dataset_id\": \"abcd\",\n",
    "    \"dataset_version\": \"1234\",\n",
    "    \"contentbytesize\": 1403\n",
    "    \"path\": \"README\",\n",
    "    \"extractors_used\": [\n",
    "        {\n",
    "            \"extractor_name\": \"stephan_manual\",\n",
    "            \"extractor_version\": \"1\",\n",
    "            \"extraction_parameter\": {},\n",
    "            \"extraction_time\": 1652340647.0,\n",
    "            \"agent_name\": \"Stephan Heunis\",\n",
    "            \"agent_email\": \"\"\n",
    "        }\n",
    "    ]\n",
    "}\n",
    "{\n",
    "    \"type\": \"file\"\n",
    "    \"dataset_id\": \"abcd\",\n",
    "    \"dataset_version\": \"1234\",\n",
    "    \"contentbytesize\": 15572\n",
    "    \"path\": \"main_data/main_results.png\",\n",
    "    \"extractors_used\": [\n",
    "        {\n",
    "            \"extractor_name\": \"stephan_manual\",\n",
    "            \"extractor_version\": \"1\",\n",
    "            \"extraction_parameter\": {},\n",
    "            \"extraction_time\": 1652340647.0,\n",
    "            \"agent_name\": \"Stephan Heunis\",\n",
    "            \"agent_email\": \"\"\n",
    "        }\n",
    "    ]\n",
    "}\n",
    "```\n",
    "\n",
    "These objects are also contained in the `test_data/toy_metadata.jsonl` file:"
   ]
  },
  {
   "cell_type": "code",
   "execution_count": 7,
   "id": "2357d1ab",
   "metadata": {},
   "outputs": [
    {
     "name": "stdout",
     "output_type": "stream",
     "text": [
      "\u001b[1;39m{\n",
      "  \u001b[0m\u001b[34;1m\"type\"\u001b[0m\u001b[1;39m: \u001b[0m\u001b[0;32m\"dataset\"\u001b[0m\u001b[1;39m,\n",
      "  \u001b[0m\u001b[34;1m\"dataset_id\"\u001b[0m\u001b[1;39m: \u001b[0m\u001b[0;32m\"abcd\"\u001b[0m\u001b[1;39m,\n",
      "  \u001b[0m\u001b[34;1m\"dataset_version\"\u001b[0m\u001b[1;39m: \u001b[0m\u001b[0;32m\"1234\"\u001b[0m\u001b[1;39m,\n",
      "  \u001b[0m\u001b[34;1m\"name\"\u001b[0m\u001b[1;39m: \u001b[0m\u001b[0;32m\"My toy dataset\"\u001b[0m\u001b[1;39m,\n",
      "  \u001b[0m\u001b[34;1m\"short_name\"\u001b[0m\u001b[1;39m: \u001b[0m\u001b[0;32m\"My toy dataset\"\u001b[0m\u001b[1;39m,\n",
      "  \u001b[0m\u001b[34;1m\"description\"\u001b[0m\u001b[1;39m: \u001b[0m\u001b[0;32m\"Lorem ipsum dolor sit amet, consectetur adipiscing elit. Phasellus nec justo tellus. Nunc sagittis eleifend magna, eu blandit arcu tincidunt eu. Mauris pharetra justo nec volutpat euismod. Curabitur bibendum vitae nunc a pharetra. Donec non rhoncus risus, ac consequat purus. Pellentesque ultricies ut enim non luctus. Sed viverra dolor enim, sed blandit lorem interdum sit amet. Aenean tincidunt et dolor sit amet tincidunt. Vivamus in sollicitudin ligula. Curabitur volutpat sapien erat, eget consectetur mauris dapibus a. Phasellus fringilla justo ligula, et fringilla tortor ullamcorper id. Praesent tristique lacus purus, eu convallis quam vestibulum eget. Donec ullamcorper mi neque, vel tincidunt augue porttitor vel.\"\u001b[0m\u001b[1;39m,\n",
      "  \u001b[0m\u001b[34;1m\"doi\"\u001b[0m\u001b[1;39m: \u001b[0m\u001b[0;32m\"\"\u001b[0m\u001b[1;39m,\n",
      "  \u001b[0m\u001b[34;1m\"url\"\u001b[0m\u001b[1;39m: \u001b[0m\u001b[0;32m\"https://github.com/jsheunis/multi-echo-super\"\u001b[0m\u001b[1;39m,\n",
      "  \u001b[0m\u001b[34;1m\"license\"\u001b[0m\u001b[1;39m: \u001b[0m\u001b[1;39m{\n",
      "    \u001b[0m\u001b[34;1m\"name\"\u001b[0m\u001b[1;39m: \u001b[0m\u001b[0;32m\"CC BY 4.0\"\u001b[0m\u001b[1;39m,\n",
      "    \u001b[0m\u001b[34;1m\"url\"\u001b[0m\u001b[1;39m: \u001b[0m\u001b[1;39m[\n",
      "      \u001b[0;32m\"https://creativecommons.org/licenses/by/4.0/\"\u001b[0m\u001b[1;39m\n",
      "    \u001b[1;39m]\u001b[0m\u001b[1;39m\n",
      "  \u001b[1;39m}\u001b[0m\u001b[1;39m,\n",
      "  \u001b[0m\u001b[34;1m\"authors\"\u001b[0m\u001b[1;39m: \u001b[0m\u001b[1;39m[\n",
      "    \u001b[1;39m{\n",
      "      \u001b[0m\u001b[34;1m\"givenName\"\u001b[0m\u001b[1;39m: \u001b[0m\u001b[0;32m\"Stephan\"\u001b[0m\u001b[1;39m,\n",
      "      \u001b[0m\u001b[34;1m\"familyName\"\u001b[0m\u001b[1;39m: \u001b[0m\u001b[0;32m\"Heunis\"\u001b[0m\u001b[1;39m\n",
      "    \u001b[1;39m}\u001b[0m\u001b[1;39m\n",
      "  \u001b[1;39m]\u001b[0m\u001b[1;39m,\n",
      "  \u001b[0m\u001b[34;1m\"keywords\"\u001b[0m\u001b[1;39m: \u001b[0m\u001b[1;39m[\n",
      "    \u001b[0;32m\"lorum\"\u001b[0m\u001b[1;39m,\n",
      "    \u001b[0;32m\"ipsum\"\u001b[0m\u001b[1;39m,\n",
      "    \u001b[0;32m\"foxes\"\u001b[0m\u001b[1;39m\n",
      "  \u001b[1;39m]\u001b[0m\u001b[1;39m,\n",
      "  \u001b[0m\u001b[34;1m\"funding\"\u001b[0m\u001b[1;39m: \u001b[0m\u001b[1;39m[\n",
      "    \u001b[1;39m{\n",
      "      \u001b[0m\u001b[34;1m\"name\"\u001b[0m\u001b[1;39m: \u001b[0m\u001b[0;32m\"Stephan's Bank Account\"\u001b[0m\u001b[1;39m,\n",
      "      \u001b[0m\u001b[34;1m\"identifier\"\u001b[0m\u001b[1;39m: \u001b[0m\u001b[0;32m\"No. 42\"\u001b[0m\u001b[1;39m,\n",
      "      \u001b[0m\u001b[34;1m\"description\"\u001b[0m\u001b[1;39m: \u001b[0m\u001b[0;32m\"Nothing to see here\"\u001b[0m\u001b[1;39m\n",
      "    \u001b[1;39m}\u001b[0m\u001b[1;39m\n",
      "  \u001b[1;39m]\u001b[0m\u001b[1;39m,\n",
      "  \u001b[0m\u001b[34;1m\"extractors_used\"\u001b[0m\u001b[1;39m: \u001b[0m\u001b[1;39m[\n",
      "    \u001b[1;39m{\n",
      "      \u001b[0m\u001b[34;1m\"extractor_name\"\u001b[0m\u001b[1;39m: \u001b[0m\u001b[0;32m\"stephan_manual\"\u001b[0m\u001b[1;39m,\n",
      "      \u001b[0m\u001b[34;1m\"extractor_version\"\u001b[0m\u001b[1;39m: \u001b[0m\u001b[0;32m\"1\"\u001b[0m\u001b[1;39m,\n",
      "      \u001b[0m\u001b[34;1m\"extraction_parameter\"\u001b[0m\u001b[1;39m: \u001b[0m\u001b[1;39m{}\u001b[0m\u001b[1;39m,\n",
      "      \u001b[0m\u001b[34;1m\"extraction_time\"\u001b[0m\u001b[1;39m: \u001b[0m\u001b[0;39m1652340647\u001b[0m\u001b[1;39m,\n",
      "      \u001b[0m\u001b[34;1m\"agent_name\"\u001b[0m\u001b[1;39m: \u001b[0m\u001b[0;32m\"Stephan Heunis\"\u001b[0m\u001b[1;39m,\n",
      "      \u001b[0m\u001b[34;1m\"agent_email\"\u001b[0m\u001b[1;39m: \u001b[0m\u001b[0;32m\"\"\u001b[0m\u001b[1;39m\n",
      "    \u001b[1;39m}\u001b[0m\u001b[1;39m\n",
      "  \u001b[1;39m]\u001b[0m\u001b[1;39m\n",
      "\u001b[1;39m}\u001b[0m\n",
      "\u001b[1;39m{\n",
      "  \u001b[0m\u001b[34;1m\"type\"\u001b[0m\u001b[1;39m: \u001b[0m\u001b[0;32m\"file\"\u001b[0m\u001b[1;39m,\n",
      "  \u001b[0m\u001b[34;1m\"dataset_id\"\u001b[0m\u001b[1;39m: \u001b[0m\u001b[0;32m\"abcd\"\u001b[0m\u001b[1;39m,\n",
      "  \u001b[0m\u001b[34;1m\"dataset_version\"\u001b[0m\u001b[1;39m: \u001b[0m\u001b[0;32m\"1234\"\u001b[0m\u001b[1;39m,\n",
      "  \u001b[0m\u001b[34;1m\"contentbytesize\"\u001b[0m\u001b[1;39m: \u001b[0m\u001b[0;39m1403\u001b[0m\u001b[1;39m,\n",
      "  \u001b[0m\u001b[34;1m\"path\"\u001b[0m\u001b[1;39m: \u001b[0m\u001b[0;32m\"README\"\u001b[0m\u001b[1;39m,\n",
      "  \u001b[0m\u001b[34;1m\"extractors_used\"\u001b[0m\u001b[1;39m: \u001b[0m\u001b[1;39m[\n",
      "    \u001b[1;39m{\n",
      "      \u001b[0m\u001b[34;1m\"extractor_name\"\u001b[0m\u001b[1;39m: \u001b[0m\u001b[0;32m\"stephan_manual\"\u001b[0m\u001b[1;39m,\n",
      "      \u001b[0m\u001b[34;1m\"extractor_version\"\u001b[0m\u001b[1;39m: \u001b[0m\u001b[0;32m\"1\"\u001b[0m\u001b[1;39m,\n",
      "      \u001b[0m\u001b[34;1m\"extraction_parameter\"\u001b[0m\u001b[1;39m: \u001b[0m\u001b[1;39m{}\u001b[0m\u001b[1;39m,\n",
      "      \u001b[0m\u001b[34;1m\"extraction_time\"\u001b[0m\u001b[1;39m: \u001b[0m\u001b[0;39m1652340647\u001b[0m\u001b[1;39m,\n",
      "      \u001b[0m\u001b[34;1m\"agent_name\"\u001b[0m\u001b[1;39m: \u001b[0m\u001b[0;32m\"Stephan Heunis\"\u001b[0m\u001b[1;39m,\n",
      "      \u001b[0m\u001b[34;1m\"agent_email\"\u001b[0m\u001b[1;39m: \u001b[0m\u001b[0;32m\"\"\u001b[0m\u001b[1;39m\n",
      "    \u001b[1;39m}\u001b[0m\u001b[1;39m\n",
      "  \u001b[1;39m]\u001b[0m\u001b[1;39m\n",
      "\u001b[1;39m}\u001b[0m\n",
      "\u001b[1;39m{\n",
      "  \u001b[0m\u001b[34;1m\"type\"\u001b[0m\u001b[1;39m: \u001b[0m\u001b[0;32m\"file\"\u001b[0m\u001b[1;39m,\n",
      "  \u001b[0m\u001b[34;1m\"dataset_id\"\u001b[0m\u001b[1;39m: \u001b[0m\u001b[0;32m\"abcd\"\u001b[0m\u001b[1;39m,\n",
      "  \u001b[0m\u001b[34;1m\"dataset_version\"\u001b[0m\u001b[1;39m: \u001b[0m\u001b[0;32m\"1234\"\u001b[0m\u001b[1;39m,\n",
      "  \u001b[0m\u001b[34;1m\"contentbytesize\"\u001b[0m\u001b[1;39m: \u001b[0m\u001b[0;39m15572\u001b[0m\u001b[1;39m,\n",
      "  \u001b[0m\u001b[34;1m\"path\"\u001b[0m\u001b[1;39m: \u001b[0m\u001b[0;32m\"main_data/main_results.png\"\u001b[0m\u001b[1;39m,\n",
      "  \u001b[0m\u001b[34;1m\"extractors_used\"\u001b[0m\u001b[1;39m: \u001b[0m\u001b[1;39m[\n",
      "    \u001b[1;39m{\n",
      "      \u001b[0m\u001b[34;1m\"extractor_name\"\u001b[0m\u001b[1;39m: \u001b[0m\u001b[0;32m\"stephan_manual\"\u001b[0m\u001b[1;39m,\n",
      "      \u001b[0m\u001b[34;1m\"extractor_version\"\u001b[0m\u001b[1;39m: \u001b[0m\u001b[0;32m\"1\"\u001b[0m\u001b[1;39m,\n",
      "      \u001b[0m\u001b[34;1m\"extraction_parameter\"\u001b[0m\u001b[1;39m: \u001b[0m\u001b[1;39m{}\u001b[0m\u001b[1;39m,\n",
      "      \u001b[0m\u001b[34;1m\"extraction_time\"\u001b[0m\u001b[1;39m: \u001b[0m\u001b[0;39m1652340647\u001b[0m\u001b[1;39m,\n",
      "      \u001b[0m\u001b[34;1m\"agent_name\"\u001b[0m\u001b[1;39m: \u001b[0m\u001b[0;32m\"Stephan Heunis\"\u001b[0m\u001b[1;39m,\n",
      "      \u001b[0m\u001b[34;1m\"agent_email\"\u001b[0m\u001b[1;39m: \u001b[0m\u001b[0;32m\"\"\u001b[0m\u001b[1;39m\n",
      "    \u001b[1;39m}\u001b[0m\u001b[1;39m\n",
      "  \u001b[1;39m]\u001b[0m\u001b[1;39m\n",
      "\u001b[1;39m}\u001b[0m\n",
      "(my_catalog_env) "
     ]
    },
    {
     "ename": "",
     "evalue": "1",
     "output_type": "error",
     "traceback": []
    }
   ],
   "source": [
    "cat $WORKING_DIRECTORY/test_data/toy_metadata.jsonl | jq ."
   ]
  },
  {
   "cell_type": "markdown",
   "id": "42e87c94",
   "metadata": {},
   "source": [
    "\n",
    "### 2.3.2. Validating your metadata: `datalad catalog validate`\n",
    "\n",
    "For convenience during metadata setup and catalog generation, the Catalog has the `validate` command that let's you test whether your metadata conforms to the Catalog schema before adding it:\n",
    "\n",
    "```bash\n",
    "datalad catalog validate -m <path_to_metadata_file>\n",
    "```\n",
    "\n",
    "Let's test this on the toy metadata:"
   ]
  },
  {
   "cell_type": "code",
   "execution_count": 9,
   "id": "94400837",
   "metadata": {},
   "outputs": [
    {
     "name": "stdout",
     "output_type": "stream",
     "text": [
      "\u001b[1;1mcatalog validate\u001b[0m(\u001b[1;32mok\u001b[0m): /Users/jsheunis/Documents/psyinf/tutorials/notebooks/catalog_tutorials [Metadata successfully validated]\n",
      "metadata validation against catalog schema: 100%|█| 3.00/3.00 [00:00<00:00, 2.98(my_catalog_env) "
     ]
    },
    {
     "ename": "",
     "evalue": "1",
     "output_type": "error",
     "traceback": []
    }
   ],
   "source": [
    "datalad catalog validate -m $WORKING_DIRECTORY/test_data/toy_metadata.jsonl"
   ]
  },
  {
   "cell_type": "markdown",
   "id": "129f55cd",
   "metadata": {},
   "source": [
    "Great, we have valid metadata!\n",
    "\n",
    "Take note that this validator also runs internally whenever metadata is added to the catalog, so there is no need to run validation explicitly unless you want you.\n",
    "\n",
    "### 2.3.3. Adding metadata: `datalad catalog add`\n",
    "\n",
    "Next, let's add our valid metadata to the catalog!"
   ]
  },
  {
   "cell_type": "code",
   "execution_count": 10,
   "id": "bbe3cf58",
   "metadata": {},
   "outputs": [
    {
     "name": "stdout",
     "output_type": "stream",
     "text": [
      "\u001b[1;1mcatalog add\u001b[0m(\u001b[1;32mok\u001b[0m): /Users/jsheunis/Documents/psyinf/tutorials/notebooks/catalog_tutorials [Metadata items successfully added to catalog]\n",
      "(my_catalog_env) "
     ]
    },
    {
     "ename": "",
     "evalue": "1",
     "output_type": "error",
     "traceback": []
    }
   ],
   "source": [
    "datalad catalog add -c $CATALOG_PATH -m $WORKING_DIRECTORY/test_data/toy_metadata.jsonl"
   ]
  },
  {
   "cell_type": "markdown",
   "id": "734df6f4",
   "metadata": {},
   "source": [
    "The `catalog add(ok)` result indicates that our metadata was added successfully to the catalog. You can inspect this by looking at the content of the metadata directory inside the catalog:"
   ]
  },
  {
   "cell_type": "code",
   "execution_count": 11,
   "id": "6f25e6fe",
   "metadata": {},
   "outputs": [
    {
     "name": "stdout",
     "output_type": "stream",
     "text": [
      "/Users/jsheunis/Documents/psyinf/tutorials/notebooks/catalog_tutorials/test_catalog/\n",
      "├── artwork\n",
      "│   ├── 404.svg\n",
      "│   ├── binder_logo.svg\n",
      "│   ├── catalog_logo.svg\n",
      "│   ├── datalad_catalog_logo_1_dark.svg\n",
      "│   ├── datalad_catalog_logo_1_light.svg\n",
      "│   └── datalad_logo_wide.svg\n",
      "├── assets\n",
      "│   ├── favicon\n",
      "│   │   ├── favicon-16x16.png\n",
      "│   │   ├── favicon-32x32.png\n",
      "│   │   └── favicon.ico\n",
      "│   ├── md5-2.3.0.js\n",
      "│   ├── style.css\n",
      "│   └── vue_app.js\n",
      "├── config.json\n",
      "├── index.html\n",
      "└── metadata\n",
      "    └── abcd\n",
      "        └── 1234\n",
      "            ├── 10f\n",
      "            │   └── 7898cf7fc3465f078a67e15124c72.json\n",
      "            └── 217\n",
      "                └── 17d85bd1b1526b7e463279763cdb0.json\n",
      "\n",
      "8 directories, 16 files\n",
      "(my_catalog_env) "
     ]
    },
    {
     "ename": "",
     "evalue": "1",
     "output_type": "error",
     "traceback": []
    }
   ],
   "source": [
    "tree $WORKING_DIRECTORY/test_catalog/"
   ]
  },
  {
   "cell_type": "markdown",
   "id": "64c7043f",
   "metadata": {},
   "source": [
    "Where previously the `metadata` directory contained nothing, it now has several subdirectories and two `.json`-files. Note, first, that the first two recursive subdirectory names correspond respectively to the `dataset_id` and `dataset_version` of the dataset in the toy metadata that we added to the catalog. This supports the DataLad Catalog's ability to identify specific datasets and their files by ID and version in order to update the catalog easily (and, when it comes to decentralized contribution, without conflicts). The subdirectories further down the hierarchy, as well as the filenames, are just hashes the path to the specific directory node relative to the parent dataset. Let's look at the content of these files:"
   ]
  },
  {
   "cell_type": "code",
   "execution_count": 12,
   "id": "482fd04f",
   "metadata": {},
   "outputs": [
    {
     "name": "stdout",
     "output_type": "stream",
     "text": [
      "\u001b[1;39m{\n",
      "  \u001b[0m\u001b[34;1m\"dataset_id\"\u001b[0m\u001b[1;39m: \u001b[0m\u001b[0;32m\"abcd\"\u001b[0m\u001b[1;39m,\n",
      "  \u001b[0m\u001b[34;1m\"dataset_version\"\u001b[0m\u001b[1;39m: \u001b[0m\u001b[0;32m\"1234\"\u001b[0m\u001b[1;39m,\n",
      "  \u001b[0m\u001b[34;1m\"type\"\u001b[0m\u001b[1;39m: \u001b[0m\u001b[0;32m\"dataset\"\u001b[0m\u001b[1;39m,\n",
      "  \u001b[0m\u001b[34;1m\"children\"\u001b[0m\u001b[1;39m: \u001b[0m\u001b[1;39m[\n",
      "    \u001b[1;39m{\n",
      "      \u001b[0m\u001b[34;1m\"type\"\u001b[0m\u001b[1;39m: \u001b[0m\u001b[0;32m\"file\"\u001b[0m\u001b[1;39m,\n",
      "      \u001b[0m\u001b[34;1m\"dataset_id\"\u001b[0m\u001b[1;39m: \u001b[0m\u001b[0;32m\"abcd\"\u001b[0m\u001b[1;39m,\n",
      "      \u001b[0m\u001b[34;1m\"dataset_version\"\u001b[0m\u001b[1;39m: \u001b[0m\u001b[0;32m\"1234\"\u001b[0m\u001b[1;39m,\n",
      "      \u001b[0m\u001b[34;1m\"contentbytesize\"\u001b[0m\u001b[1;39m: \u001b[0m\u001b[0;39m1403\u001b[0m\u001b[1;39m,\n",
      "      \u001b[0m\u001b[34;1m\"path\"\u001b[0m\u001b[1;39m: \u001b[0m\u001b[0;32m\"README\"\u001b[0m\u001b[1;39m,\n",
      "      \u001b[0m\u001b[34;1m\"extractors_used\"\u001b[0m\u001b[1;39m: \u001b[0m\u001b[1;39m[\n",
      "        \u001b[1;39m{\n",
      "          \u001b[0m\u001b[34;1m\"extractor_name\"\u001b[0m\u001b[1;39m: \u001b[0m\u001b[0;32m\"stephan_manual\"\u001b[0m\u001b[1;39m,\n",
      "          \u001b[0m\u001b[34;1m\"extractor_version\"\u001b[0m\u001b[1;39m: \u001b[0m\u001b[0;32m\"1\"\u001b[0m\u001b[1;39m,\n",
      "          \u001b[0m\u001b[34;1m\"extraction_parameter\"\u001b[0m\u001b[1;39m: \u001b[0m\u001b[1;39m{}\u001b[0m\u001b[1;39m,\n",
      "          \u001b[0m\u001b[34;1m\"extraction_time\"\u001b[0m\u001b[1;39m: \u001b[0m\u001b[0;39m1652340647\u001b[0m\u001b[1;39m,\n",
      "          \u001b[0m\u001b[34;1m\"agent_name\"\u001b[0m\u001b[1;39m: \u001b[0m\u001b[0;32m\"Stephan Heunis\"\u001b[0m\u001b[1;39m,\n",
      "          \u001b[0m\u001b[34;1m\"agent_email\"\u001b[0m\u001b[1;39m: \u001b[0m\u001b[0;32m\"\"\u001b[0m\u001b[1;39m\n",
      "        \u001b[1;39m}\u001b[0m\u001b[1;39m\n",
      "      \u001b[1;39m]\u001b[0m\u001b[1;39m,\n",
      "      \u001b[0m\u001b[34;1m\"name\"\u001b[0m\u001b[1;39m: \u001b[0m\u001b[0;32m\"README\"\u001b[0m\u001b[1;39m\n",
      "    \u001b[1;39m}\u001b[0m\u001b[1;39m,\n",
      "    \u001b[1;39m{\n",
      "      \u001b[0m\u001b[34;1m\"type\"\u001b[0m\u001b[1;39m: \u001b[0m\u001b[0;32m\"directory\"\u001b[0m\u001b[1;39m,\n",
      "      \u001b[0m\u001b[34;1m\"name\"\u001b[0m\u001b[1;39m: \u001b[0m\u001b[0;32m\"main_data\"\u001b[0m\u001b[1;39m,\n",
      "      \u001b[0m\u001b[34;1m\"path\"\u001b[0m\u001b[1;39m: \u001b[0m\u001b[0;32m\"main_data\"\u001b[0m\u001b[1;39m,\n",
      "      \u001b[0m\u001b[34;1m\"dataset_id\"\u001b[0m\u001b[1;39m: \u001b[0m\u001b[0;32m\"abcd\"\u001b[0m\u001b[1;39m,\n",
      "      \u001b[0m\u001b[34;1m\"dataset_version\"\u001b[0m\u001b[1;39m: \u001b[0m\u001b[0;32m\"1234\"\u001b[0m\u001b[1;39m\n",
      "    \u001b[1;39m}\u001b[0m\u001b[1;39m\n",
      "  \u001b[1;39m]\u001b[0m\u001b[1;39m,\n",
      "  \u001b[0m\u001b[34;1m\"name\"\u001b[0m\u001b[1;39m: \u001b[0m\u001b[0;32m\"My toy dataset\"\u001b[0m\u001b[1;39m,\n",
      "  \u001b[0m\u001b[34;1m\"short_name\"\u001b[0m\u001b[1;39m: \u001b[0m\u001b[0;32m\"My toy dataset\"\u001b[0m\u001b[1;39m,\n",
      "  \u001b[0m\u001b[34;1m\"description\"\u001b[0m\u001b[1;39m: \u001b[0m\u001b[1;39m[\n",
      "    \u001b[1;39m{\n",
      "      \u001b[0m\u001b[34;1m\"source\"\u001b[0m\u001b[1;39m: \u001b[0m\u001b[0;32m\"stephan_manual\"\u001b[0m\u001b[1;39m,\n",
      "      \u001b[0m\u001b[34;1m\"content\"\u001b[0m\u001b[1;39m: \u001b[0m\u001b[0;32m\"Lorem ipsum dolor sit amet, consectetur adipiscing elit. Phasellus nec justo tellus. Nunc sagittis eleifend magna, eu blandit arcu tincidunt eu. Mauris pharetra justo nec volutpat euismod. Curabitur bibendum vitae nunc a pharetra. Donec non rhoncus risus, ac consequat purus. Pellentesque ultricies ut enim non luctus. Sed viverra dolor enim, sed blandit lorem interdum sit amet. Aenean tincidunt et dolor sit amet tincidunt. Vivamus in sollicitudin ligula. Curabitur volutpat sapien erat, eget consectetur mauris dapibus a. Phasellus fringilla justo ligula, et fringilla tortor ullamcorper id. Praesent tristique lacus purus, eu convallis quam vestibulum eget. Donec ullamcorper mi neque, vel tincidunt augue porttitor vel.\"\u001b[0m\u001b[1;39m\n",
      "    \u001b[1;39m}\u001b[0m\u001b[1;39m\n",
      "  \u001b[1;39m]\u001b[0m\u001b[1;39m,\n",
      "  \u001b[0m\u001b[34;1m\"url\"\u001b[0m\u001b[1;39m: \u001b[0m\u001b[0;32m\"https://github.com/jsheunis/multi-echo-super\"\u001b[0m\u001b[1;39m,\n",
      "  \u001b[0m\u001b[34;1m\"license\"\u001b[0m\u001b[1;39m: \u001b[0m\u001b[1;39m{\n",
      "    \u001b[0m\u001b[34;1m\"name\"\u001b[0m\u001b[1;39m: \u001b[0m\u001b[0;32m\"CC BY 4.0\"\u001b[0m\u001b[1;39m,\n",
      "    \u001b[0m\u001b[34;1m\"url\"\u001b[0m\u001b[1;39m: \u001b[0m\u001b[0;32m\"https://creativecommons.org/licenses/by/4.0/\"\u001b[0m\u001b[1;39m\n",
      "  \u001b[1;39m}\u001b[0m\u001b[1;39m,\n",
      "  \u001b[0m\u001b[34;1m\"authors\"\u001b[0m\u001b[1;39m: \u001b[0m\u001b[1;39m[\n",
      "    \u001b[1;39m{\n",
      "      \u001b[0m\u001b[34;1m\"givenName\"\u001b[0m\u001b[1;39m: \u001b[0m\u001b[0;32m\"Stephan\"\u001b[0m\u001b[1;39m,\n",
      "      \u001b[0m\u001b[34;1m\"familyName\"\u001b[0m\u001b[1;39m: \u001b[0m\u001b[0;32m\"Heunis\"\u001b[0m\u001b[1;39m\n",
      "    \u001b[1;39m}\u001b[0m\u001b[1;39m\n",
      "  \u001b[1;39m]\u001b[0m\u001b[1;39m,\n",
      "  \u001b[0m\u001b[34;1m\"keywords\"\u001b[0m\u001b[1;39m: \u001b[0m\u001b[1;39m[\n",
      "    \u001b[0;32m\"lorum\"\u001b[0m\u001b[1;39m,\n",
      "    \u001b[0;32m\"ipsum\"\u001b[0m\u001b[1;39m,\n",
      "    \u001b[0;32m\"foxes\"\u001b[0m\u001b[1;39m\n",
      "  \u001b[1;39m]\u001b[0m\u001b[1;39m,\n",
      "  \u001b[0m\u001b[34;1m\"funding\"\u001b[0m\u001b[1;39m: \u001b[0m\u001b[1;39m[\n",
      "    \u001b[1;39m{\n",
      "      \u001b[0m\u001b[34;1m\"name\"\u001b[0m\u001b[1;39m: \u001b[0m\u001b[0;32m\"Stephan's Bank Account\"\u001b[0m\u001b[1;39m,\n",
      "      \u001b[0m\u001b[34;1m\"identifier\"\u001b[0m\u001b[1;39m: \u001b[0m\u001b[0;32m\"No. 42\"\u001b[0m\u001b[1;39m,\n",
      "      \u001b[0m\u001b[34;1m\"description\"\u001b[0m\u001b[1;39m: \u001b[0m\u001b[0;32m\"Nothing to see here\"\u001b[0m\u001b[1;39m\n",
      "    \u001b[1;39m}\u001b[0m\u001b[1;39m\n",
      "  \u001b[1;39m]\u001b[0m\u001b[1;39m,\n",
      "  \u001b[0m\u001b[34;1m\"extractors_used\"\u001b[0m\u001b[1;39m: \u001b[0m\u001b[1;39m[\n",
      "    \u001b[1;39m{\n",
      "      \u001b[0m\u001b[34;1m\"extractor_name\"\u001b[0m\u001b[1;39m: \u001b[0m\u001b[0;32m\"stephan_manual\"\u001b[0m\u001b[1;39m,\n",
      "      \u001b[0m\u001b[34;1m\"extractor_version\"\u001b[0m\u001b[1;39m: \u001b[0m\u001b[0;32m\"1\"\u001b[0m\u001b[1;39m,\n",
      "      \u001b[0m\u001b[34;1m\"extraction_parameter\"\u001b[0m\u001b[1;39m: \u001b[0m\u001b[1;39m{}\u001b[0m\u001b[1;39m,\n",
      "      \u001b[0m\u001b[34;1m\"extraction_time\"\u001b[0m\u001b[1;39m: \u001b[0m\u001b[0;39m1652340647\u001b[0m\u001b[1;39m,\n",
      "      \u001b[0m\u001b[34;1m\"agent_name\"\u001b[0m\u001b[1;39m: \u001b[0m\u001b[0;32m\"Stephan Heunis\"\u001b[0m\u001b[1;39m,\n",
      "      \u001b[0m\u001b[34;1m\"agent_email\"\u001b[0m\u001b[1;39m: \u001b[0m\u001b[0;32m\"\"\u001b[0m\u001b[1;39m\n",
      "    \u001b[1;39m}\u001b[0m\u001b[1;39m\n",
      "  \u001b[1;39m]\u001b[0m\u001b[1;39m\n",
      "\u001b[1;39m}\u001b[0m\n",
      "(my_catalog_env) \u001b[1;39m{\n",
      "  \u001b[0m\u001b[34;1m\"dataset_id\"\u001b[0m\u001b[1;39m: \u001b[0m\u001b[0;32m\"abcd\"\u001b[0m\u001b[1;39m,\n",
      "  \u001b[0m\u001b[34;1m\"dataset_version\"\u001b[0m\u001b[1;39m: \u001b[0m\u001b[0;32m\"1234\"\u001b[0m\u001b[1;39m,\n",
      "  \u001b[0m\u001b[34;1m\"type\"\u001b[0m\u001b[1;39m: \u001b[0m\u001b[0;32m\"directory\"\u001b[0m\u001b[1;39m,\n",
      "  \u001b[0m\u001b[34;1m\"children\"\u001b[0m\u001b[1;39m: \u001b[0m\u001b[1;39m[\n",
      "    \u001b[1;39m{\n",
      "      \u001b[0m\u001b[34;1m\"type\"\u001b[0m\u001b[1;39m: \u001b[0m\u001b[0;32m\"file\"\u001b[0m\u001b[1;39m,\n",
      "      \u001b[0m\u001b[34;1m\"dataset_id\"\u001b[0m\u001b[1;39m: \u001b[0m\u001b[0;32m\"abcd\"\u001b[0m\u001b[1;39m,\n",
      "      \u001b[0m\u001b[34;1m\"dataset_version\"\u001b[0m\u001b[1;39m: \u001b[0m\u001b[0;32m\"1234\"\u001b[0m\u001b[1;39m,\n",
      "      \u001b[0m\u001b[34;1m\"contentbytesize\"\u001b[0m\u001b[1;39m: \u001b[0m\u001b[0;39m15572\u001b[0m\u001b[1;39m,\n",
      "      \u001b[0m\u001b[34;1m\"path\"\u001b[0m\u001b[1;39m: \u001b[0m\u001b[0;32m\"main_data/main_results.png\"\u001b[0m\u001b[1;39m,\n",
      "      \u001b[0m\u001b[34;1m\"extractors_used\"\u001b[0m\u001b[1;39m: \u001b[0m\u001b[1;39m[\n",
      "        \u001b[1;39m{\n",
      "          \u001b[0m\u001b[34;1m\"extractor_name\"\u001b[0m\u001b[1;39m: \u001b[0m\u001b[0;32m\"stephan_manual\"\u001b[0m\u001b[1;39m,\n",
      "          \u001b[0m\u001b[34;1m\"extractor_version\"\u001b[0m\u001b[1;39m: \u001b[0m\u001b[0;32m\"1\"\u001b[0m\u001b[1;39m,\n",
      "          \u001b[0m\u001b[34;1m\"extraction_parameter\"\u001b[0m\u001b[1;39m: \u001b[0m\u001b[1;39m{}\u001b[0m\u001b[1;39m,\n",
      "          \u001b[0m\u001b[34;1m\"extraction_time\"\u001b[0m\u001b[1;39m: \u001b[0m\u001b[0;39m1652340647\u001b[0m\u001b[1;39m,\n",
      "          \u001b[0m\u001b[34;1m\"agent_name\"\u001b[0m\u001b[1;39m: \u001b[0m\u001b[0;32m\"Stephan Heunis\"\u001b[0m\u001b[1;39m,\n",
      "          \u001b[0m\u001b[34;1m\"agent_email\"\u001b[0m\u001b[1;39m: \u001b[0m\u001b[0;32m\"\"\u001b[0m\u001b[1;39m\n",
      "        \u001b[1;39m}\u001b[0m\u001b[1;39m\n",
      "      \u001b[1;39m]\u001b[0m\u001b[1;39m,\n",
      "      \u001b[0m\u001b[34;1m\"name\"\u001b[0m\u001b[1;39m: \u001b[0m\u001b[0;32m\"main_results.png\"\u001b[0m\u001b[1;39m\n",
      "    \u001b[1;39m}\u001b[0m\u001b[1;39m\n",
      "  \u001b[1;39m]\u001b[0m\u001b[1;39m,\n",
      "  \u001b[0m\u001b[34;1m\"path\"\u001b[0m\u001b[1;39m: \u001b[0m\u001b[0;32m\"main_data\"\u001b[0m\u001b[1;39m,\n",
      "  \u001b[0m\u001b[34;1m\"name\"\u001b[0m\u001b[1;39m: \u001b[0m\u001b[0;32m\"main_data\"\u001b[0m\u001b[1;39m\n",
      "\u001b[1;39m}\u001b[0m\n",
      "(my_catalog_env) "
     ]
    },
    {
     "ename": "",
     "evalue": "1",
     "output_type": "error",
     "traceback": []
    }
   ],
   "source": [
    "cat $WORKING_DIRECTORY/test_catalog/metadata/abcd/1234/217/17d85bd1b1526b7e463279763cdb0.json | jq .\n",
    "cat $WORKING_DIRECTORY/test_catalog/metadata/abcd/1234/10f/7898cf7fc3465f078a67e15124c72.json | jq ."
   ]
  },
  {
   "cell_type": "markdown",
   "id": "594494e3",
   "metadata": {},
   "source": [
    "As you can see, the content of these files is very similar to the original toy data, but slightly transformed. This transformation creates a structure that is easier for the associated browser application to read and render. Additionally, structuring data into metadata files that represent nodes in the dataset hierarchy (i.e. a datasets or directories) allows the browser application to only access the data in those metadata files whenever the user selects the applicable node. This saves loading time which makes the user experience more seamless.\n",
    "\n",
    "### 2.3.4. Viewing a particular dataset\n",
    "\n",
    "That was everything that happened behind the scenes during the `datalad catalog add` procedure, but what does our updated catalog look like? Let's take a look. If you navigate to the HTTP server tab/window that you opened previously, and hit refresh, you should see... no change?!\n",
    "\n",
    "The reason for this is that we didn't specify the details of the particular dataset that we want to view.\n",
    "\n",
    "If we want to view the specific dataset that we just added to the catalog, we can specify its `dataset_id` and `dataset_version` by appending them to the URL in the format: `/#/dataset/<dataset_id>/<dataset_version>`. This makes it possible to view any uniquely identifiable dataset by navigating to a unique URL.\n",
    "\n",
    "Let's try it with out example. Go to the HTTP server tab/window, make sure that you are located in the `test_catalog` directory (the 404 page should be displaying), append `/#/dataset/abcd/1234` to the end of the URL, and hit ENTER/RETURN. You should see something like this:\n",
    "\n",
    "<br>\n",
    "<div style=\"text-align:center;\">\n",
    "    <img src=\"./pics/dataset_view_subdatasets.png\" width=\"75%\" style=\"border: 1px solid black\"></img>\n",
    "    <h5>The rendered catalog, showing the dataset view with the subdatasets tab</h5>\n",
    "</div>\n",
    "\n",
    "The is the dataset view, with the subdatasets tab (auto-)selected. This view displays all the main content related to the dataset that was provided by the metadata, and allows the user further functionality like downloading the dataset with DataLad, downloading the metadata, filtering subdatasets by keyword, browsing files, and viewing extended attributes such as funding information related to the dataset. Below are two more views, the first with the files tab selected, and the second with the funding tab selected.\n",
    "\n",
    "<br>\n",
    "<div style=\"text-align:center;\">\n",
    "    <img src=\"./pics/dataset_view_files.png\" width=\"75%\" style=\"border: 1px solid black\"></img>\n",
    "    <h5>The rendered catalog, showing the dataset view with the files tab</h5>\n",
    "    <br>\n",
    "    <img src=\"./pics/dataset_view_funding.png\" width=\"75%\" style=\"border: 1px solid black\"></img>\n",
    "    <h5>The rendered catalog, showing the dataset view with the funding tab</h5>\n",
    "</div>"
   ]
  },
  {
   "cell_type": "markdown",
   "id": "de400f99",
   "metadata": {},
   "source": [
    "<div id=\"catalog_super\"></div>\n",
    "\n",
    "## 2.4. Setting the default dataset of a catalog: `datalad catalog set-super`\n",
    "\n",
    "When one navigates to a specific catalog's root address (in our toy case: `$WORKING_DIRECTORY/test_catalog`), i.e. without a `dataset_id` and `dataset_version` specified in the URL, the browser application checks if a so-called \"superdataset\" is specified for the catalog. If not, it renders the 404 page.\n",
    "\n",
    "The specification of a superdataset could be useful for cases where the catalog, when navigated to, should always render the top-level list of available datasets in the catalog (provided by the metadata as subdatasets to the superdataset).\n",
    "\n",
    "Let's add our toy dataset as the catalog's superdataset, using the `-s/--set-super` flag and additionally specifying the dataset's `dataset_id` (`-i/--dataset-id` flag) and `dataset_version` (`-v/--dataset-version` flag):"
   ]
  },
  {
   "cell_type": "code",
   "execution_count": 13,
   "id": "f9fd0ac9",
   "metadata": {},
   "outputs": [
    {
     "name": "stdout",
     "output_type": "stream",
     "text": [
      "\u001b[1;1mcatalog set-super\u001b[0m(\u001b[1;32mok\u001b[0m): /Users/jsheunis/Documents/psyinf/tutorials/notebooks/catalog_tutorials [Superdataset successfully set for catalog]\n",
      "(my_catalog_env) "
     ]
    },
    {
     "ename": "",
     "evalue": "1",
     "output_type": "error",
     "traceback": []
    }
   ],
   "source": [
    "datalad catalog set-super -c $WORKING_DIRECTORY/test_catalog -i abcd -v 1234"
   ]
  },
  {
   "cell_type": "markdown",
   "id": "08abcf77",
   "metadata": {},
   "source": [
    "The `catalog set-super(ok)` result shows that the superdataset was successfully ser for the catalog, and you will now also be able to see an additional `super.json` file in the catalog metadata directory. The content of this file is a simple JSON object specifying the superdataset's `dataset_id` and `dataset_version`:"
   ]
  },
  {
   "cell_type": "code",
   "execution_count": 14,
   "id": "2be451c6",
   "metadata": {},
   "outputs": [
    {
     "name": "stdout",
     "output_type": "stream",
     "text": [
      "/Users/jsheunis/Documents/psyinf/tutorials/notebooks/catalog_tutorials/test_catalog/metadata\n",
      "├── abcd\n",
      "│   └── 1234\n",
      "│       ├── 10f\n",
      "│       │   └── 7898cf7fc3465f078a67e15124c72.json\n",
      "│       └── 217\n",
      "│           └── 17d85bd1b1526b7e463279763cdb0.json\n",
      "└── super.json\n",
      "\n",
      "4 directories, 3 files\n",
      "(my_catalog_env) {\"dataset_id\": \"abcd\", \"dataset_version\": \"1234\"}(my_catalog_env) "
     ]
    },
    {
     "ename": "",
     "evalue": "1",
     "output_type": "error",
     "traceback": []
    }
   ],
   "source": [
    "tree $WORKING_DIRECTORY/test_catalog/metadata\n",
    "cat $WORKING_DIRECTORY/test_catalog/metadata/super.json"
   ]
  },
  {
   "cell_type": "markdown",
   "id": "6cdf9f10",
   "metadata": {},
   "source": [
    "*Now*, when one navigates to the catalog's root address without a `dataset_id` and `dataset_version` specified in the URL, the browser application will find that a superdataset is indeed specified for the catalog, and it will navigate to that specific dataset view."
   ]
  },
  {
   "cell_type": "markdown",
   "id": "78e2574d",
   "metadata": {},
   "source": [
    "<div id=\"catalog_config\"></div>\n",
    "\n",
    "## 2.4. Catalog configuration\n",
    "\n",
    "***to be completed***\n",
    "\n",
    "A useful feature of the catalog process is to be able to configure certain properties according to your preferences. This is done with help of a config file (in either `JSON` or `YAML` format) and the `-y/--config-file` flag. DataLad Catalog provides a default config file with the following content:"
   ]
  },
  {
   "cell_type": "code",
   "execution_count": 16,
   "id": "bdfa36ac",
   "metadata": {},
   "outputs": [
    {
     "name": "stdout",
     "output_type": "stream",
     "text": [
      "{\n",
      "    \"catalog_name\": \"DataCat\",\n",
      "    \"link_color\": \"#fba304\",\n",
      "    \"link_hover_color\": \"#af7714\",\n",
      "    \"property_source\": {\n",
      "        \"dataset\": {\n",
      "            \"dataset_id\": \"metalad_core\",\n",
      "            \"dataset_version\": \"metalad_core\",\n",
      "            \"type\": \"metalad_core\",\n",
      "            \"children\": \"merge\",\n",
      "            \"name\": \"metalad_studyminimeta\",\n",
      "            \"short_name\": \"\",\n",
      "            \"description\": [\"metalad_studyminimeta\", \"datacite_gin\", \"readme.md\"],\n",
      "            \"doi\": \"\",\n",
      "            \"url\": \"merge\",\n",
      "            \"authors\": \"merge\",\n",
      "            \"keywords\": \"merge\",\n",
      "            \"license\": \"\",\n",
      "            \"funding\": \"merge\",\n",
      "            \"publications\": \"merge\",\n",
      "            \"subdatasets\": \"merge\",\n",
      "            \"extractors_used\": \"merge\",\n",
      "            \"additional_display\": \"merge\",\n",
      "            \"top_display\": \"merge\"\n",
      "        }\n",
      "    }   \n",
      "}(my_catalog_env) "
     ]
    },
    {
     "ename": "",
     "evalue": "1",
     "output_type": "error",
     "traceback": []
    }
   ],
   "source": [
    "cat $WORKING_DIRECTORY/datalad-catalog/datalad_catalog/templates/config.json"
   ]
  },
  {
   "cell_type": "markdown",
   "id": "f0ca2446",
   "metadata": {},
   "source": [
    "<div id=\"catalog_remove\"></div>\n",
    "\n",
    "## 2.5. Removing catalog metadata\n",
    "\n",
    "***to be completed***"
   ]
  },
  {
   "cell_type": "code",
   "execution_count": null,
   "id": "2631fc97",
   "metadata": {},
   "outputs": [],
   "source": []
  }
 ],
 "metadata": {
  "kernelspec": {
   "display_name": "Bash",
   "language": "bash",
   "name": "bash"
  },
  "language_info": {
   "codemirror_mode": "shell",
   "file_extension": ".sh",
   "mimetype": "text/x-sh",
   "name": "bash"
  }
 },
 "nbformat": 4,
 "nbformat_minor": 5
}
