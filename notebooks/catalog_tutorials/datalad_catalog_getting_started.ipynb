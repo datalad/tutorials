{
 "cells": [
  {
   "cell_type": "markdown",
   "id": "483b1828",
   "metadata": {},
   "source": [
    "<div style=\"text-align:center;\">\n",
    "    <img src=\"./pics/datacat_logo.svg\" width=\"80%\"></img>\n",
    "    <br>\n",
    "    <br>\n",
    "    <h1 >Tutorial 1: Getting started with DataLad Catalog</h1>\n",
    "</div>\n",
    "\n",
    "### Quick Links:\n",
    "\n",
    "- [DataLad Catalog primer](./datalad_catalog_primer.md)\n",
    "- [DataLad Catalog demo site](https://datalad.github.io/datalad-catalog/)\n",
    "- [3-minute explainer video](https://www.youtube.com/watch?v=4GERwj49KFc)\n",
    "- [DataLad Catalog code repository](https://github.com/datalad/datalad-catalog)\n",
    "- [DataLad Catalog documentation](http://docs.datalad.org/projects/catalog/en/latest/?badge=latest)\n",
    "- [DataLad website](https://www.datalad.org/)\n",
    "- [DataLad code repository](https://github.com/datalad/datalad)\n",
    "- [DataLad MetaLad code repository](https://github.com/datalad/datalad-metalad)\n",
    "\n",
    "### Tutorial goals\n",
    "\n",
    "This tutorial guides you through the process of installing DataLad Catalog and getting to know its basic functionality. After you've gone through these steps, you should be able to create your own data catalog from structured metadata.\n",
    "\n",
    "### Tutorial prerequisites\n",
    "\n",
    "If you are not familiar with DataLad Catalog and its function in the wider DataLad ecosystem, it is recommended that you first read [DataLad Catalog - A primer](./datalad_catalog_primer.ipynb), although this is not strictly required before continuing with this tutorial.\n",
    "\n",
    "### Sections\n",
    "\n",
    "1. [Install DataLad Catalog](#install)\n",
    "2. [The main catalog functionality](#main_commands):\n",
    "   1. [Create a new catalog](#catalog_create)\n",
    "   2. [Render a catalog locally](#catalog_serve)\n",
    "   3. [Adding catalog metadata](#catalog_add)\n",
    "   4. [Setting the default dataset of a catalog](#catalog_super)\n",
    "   5. [Catalog configuration](#catalog_config)\n",
    "   6. [Removing catalog metadata](#catalog_remove)\n",
    "3. [Next steps](#next)"
   ]
  },
  {
   "cell_type": "markdown",
   "id": "c6b51458",
   "metadata": {},
   "source": [
    "<div id=\"install\"></div>\n",
    "\n",
    "# 1. Install DataLad Catalog\n",
    "\n",
    "DataLad Catalog is a free and open source command line tool that has a Python API and is available for installation via [PyPI](https://pypi.org/). Let's start by creating and activating a new and empty virtual environment:"
   ]
  },
  {
   "cell_type": "code",
   "execution_count": null,
   "id": "73495922",
   "metadata": {},
   "outputs": [],
   "source": [
    "python -m venv my_catalog_env"
   ]
  },
  {
   "cell_type": "code",
   "execution_count": null,
   "id": "cee57759",
   "metadata": {},
   "outputs": [],
   "source": [
    "source my_catalog_env/bin/activate"
   ]
  },
  {
   "cell_type": "markdown",
   "id": "e6151319",
   "metadata": {},
   "source": [
    "Now we can clone `datalad-catalog` and install it with `pip`. This will also install `datalad` and other dependencies."
   ]
  },
  {
   "cell_type": "code",
   "execution_count": null,
   "id": "b73ac444",
   "metadata": {},
   "outputs": [],
   "source": [
    "git clone https://github.com/datalad/datalad-catalog.git\n",
    "cd datalad-catalog\n",
    "pip install -e .\n",
    "cd .."
   ]
  },
  {
   "cell_type": "markdown",
   "id": "91151782",
   "metadata": {},
   "source": [
    "After that, you can check the installation by running the `datalad catalog` command with the `--help` flag:"
   ]
  },
  {
   "cell_type": "code",
   "execution_count": null,
   "id": "bcdfbee3",
   "metadata": {},
   "outputs": [],
   "source": [
    "datalad catalog --help"
   ]
  },
  {
   "cell_type": "markdown",
   "id": "2157c76d",
   "metadata": {},
   "source": [
    "You might be wondering why the catalog command is preceded by `datalad` as in `datalad catalog <command>`. DataLad Catalog is an extension of [DataLad](https://github.com/datalad), which provides base functionality that the catalog generation process uses. It is installed as a dependency during the installation of DataLad Catalog, and provides supporting functionality during the catalog generation process. Feel free to explore DataLad's capabilities with `datalad --help`."
   ]
  },
  {
   "cell_type": "markdown",
   "id": "f758d987",
   "metadata": {},
   "source": [
    "<div id=\"main_commands\"></div>\n",
    "\n",
    "# 2. The main catalog functionality\n",
    "\n",
    "As you likely saw in the `--help` information, DataLad Catalog has several main commands to support the process of catalog generation. These include:\n",
    "\n",
    "- `create`: create a new catalog\n",
    "- `add`: add metadata to a catalog\n",
    "- `remove`: remove metadata from a catalog\n",
    "- `serve`: serve the catalog locally on an http server for testing/viewing purposes\n",
    "- `set-super`: set the so-called super dataset of the catalog, i.e. the dataset that will be displayed when navigating to the root URL of the catalog\n",
    "- `validate`: validate metadata according the to catalog schema\n",
    "\n",
    "Below you are taken through several steps showing how to use these commands and their supporting flags.\n",
    "\n",
    "<div id=\"catalog_create\"></div>\n",
    "\n",
    "## 2.1. Create a new catalog: `datalad catalog create`\n",
    "\n",
    "With this command, you can create a new catalog. Let's try it out!"
   ]
  },
  {
   "cell_type": "code",
   "execution_count": null,
   "id": "fa8fc42b",
   "metadata": {},
   "outputs": [],
   "source": [
    "WORKING_DIRECTORY=$(pwd)\n",
    "CATALOG_PATH=\"$WORKING_DIRECTORY/test_catalog\"\n",
    "datalad catalog create -c $CATALOG_PATH"
   ]
  },
  {
   "cell_type": "markdown",
   "id": "99760e75",
   "metadata": {},
   "source": [
    "The `catalog create(ok)` results shows that the catalog was successfully created at the specified location, wich was passed to the command with the `-c/--catalog-dir` flag.\n",
    "\n",
    "We can inspect the catalog's content with the `tree` command."
   ]
  },
  {
   "cell_type": "code",
   "execution_count": null,
   "id": "c80ab275",
   "metadata": {},
   "outputs": [],
   "source": [
    "cd $CATALOG_PATH\n",
    "tree\n",
    "cd .."
   ]
  },
  {
   "cell_type": "markdown",
   "id": "6cfed904",
   "metadata": {},
   "source": [
    "As you can see, the catalog's root directory contains subdirectories for:\n",
    "- *artwork*: images that make the catalog pretty\n",
    "- *assets*: mainly the JavaScript and CSS code that underlie the user interface of the catalog.\n",
    "- *metadata*: this is where metadata content for any datasets and files rendered by the catalog will be contained\n",
    "\n",
    "It also contains an `index.html` files, which is the main catalog HTML content that will be served to users in their browsers, as wel as a `config.json` file, which contains default and user-specified configuration settings for the browser. These directories and files are all populated into their respective locations by the `datalad catalog create` command.\n",
    "\n",
    "Let's have a look at the catalog that you just created.\n",
    "\n",
    "<div id=\"catalog_serve\"></div>\n",
    "\n",
    "## 2.2. Render a catalog locally: `datalad catalog serve`\n",
    "\n",
    "Since the catalog contains HTML, JavaScript, and CSS that can be viewed in any common browser (Google Chrome, Safari, Mozilla Firefox, etc), this content needs to be served.\n",
    "\n",
    "With the `serve` command, you can serve the content of a catalog locally via an HTTP server. \n",
    "\n",
    "If you are running the code of this tutorial on your own system (i.e. not from within the Jupyter environment), you can do that as follows:\n",
    "\n",
    "```bash\n",
    "datalad catalog serve -c $CATALOG_NAME\n",
    "\n",
    "```\n",
    "\n",
    "In the Jupyter environment, we can open a new HTTP Server window to achieve the same outcome. If you're using JupyterLab, you can open a new Launcher window from the main menu bar, and then click on the HTTP Server option. If you're running a Jupyter Notebook environment, you can select \"New\" in the top right of the tree view, and then select \"HTTP Server\" from the dropdown menu.\n",
    "\n",
    "\n",
    "<br>\n",
    "<div style=\"display: flex; border: 1px solid grey\">\n",
    "    <div style=\"flex: 50%; border: 1px solid black\">\n",
    "        <img src=\"./pics/open_server_lab1.png\" width=\"70%\"></img>\n",
    "    </div>\n",
    "    <div style=\"flex: 50%; border: 1px solid black\">\n",
    "        <img src=\"./pics/open_server_lab2.png\" width=\"55%\"></img>\n",
    "    </div>\n",
    "</div>\n",
    "\n",
    "<div style=\"text-align:center;\">\n",
    "    <h5 style=\"margin-top:1em;\">Opening a new HTTP Server window in JupyterLab</h5>\n",
    "</div>\n",
    "\n",
    "<br>\n",
    "<br>\n",
    "<div style=\"text-align:center;\">\n",
    "    <img src=\"./pics/open_server_notebook.png\" width=\"20%\" style=\"border: 1px solid black\"></img>\n",
    "    <h5 style=\"margin-top:1em;\">Opening a new HTTP Server window in Jupter Notebook</h5>\n",
    "</div>\n",
    "\n",
    "\n",
    "Once the content is served, you can visit the local URL to view the catalog. On your own system, this should be at http://localhost:8000/. In the Jupyter envionment on Binder, you should see the directory tree of the root directory running the server. Navigate to `tutorials/notebooks/catalog_tutorials` in order to see the `test_catalog` directory that you created:\n",
    "\n",
    "<br>\n",
    "<div style=\"text-align:center;\">\n",
    "    <img src=\"./pics/http_server_testcatalog1.png\" width=\"70%\" style=\"border: 1px solid black\"></img>\n",
    "    <h5 style=\"margin-top:1em;\">The directory tree rendered via the HTTP Server</h5>\n",
    "</div>\n",
    "<br>\n",
    "<div style=\"text-align:center;\">\n",
    "    <img src=\"./pics/http_server_testcatalog2.png\" width=\"70%\" style=\"border: 1px solid black\"></img>\n",
    "    <h5 style=\"margin-top:1em;\">Navigate to \"tutorials/notebooks/catalog_tutorials\" and select \"test_catalog\"</h5>\n",
    "</div>\n",
    "\n",
    "If you navigate to the `test_catalog` directory, the catalog should be rendered. You should see the 404 page, since there is no metadata in the catalog yet. (Don't worry, that will change soon!)\n",
    "\n",
    "<br>\n",
    "<div style=\"text-align:center;\">\n",
    "    <img src=\"./pics/404.png\" width=\"60%\" style=\"border: 1px solid black\"></img>\n",
    "    <h5>The rendered catalog, here showing the 404 page</h5>\n",
    "</div>\n",
    "\n",
    "If you press the browser's back button until you see the directory tree again, and then navigate to `datalad-catalog/datalad_catalog`, the fully functional demo catalog should be rendered. This is the same as the demo catalog hosted here: https://datalad.github.io/datalad-catalog/"
   ]
  },
  {
   "cell_type": "markdown",
   "id": "841895bc",
   "metadata": {},
   "source": [
    "<div id=\"catalog_add\"></div>\n",
    "\n",
    "## 2.3. Adding catalog metadata\n",
    "\n",
    "The catalog is, of course, only as useful as the metadata that is contained within it. So let's add some! This can easily be done with the `add` command and `-m/--metadata` flag:\n",
    "\n",
    "```bash\n",
    "datalad catalog add -c $CATALOG_PATH -m <path_to_metadata_file>\n",
    "```\n",
    "\n",
    "At the time of creating this tutorial, DataLad Catalog accepts metadata input in the form of json lines, i.e. a text file (typically, `.json`, `.jsonl`, or `.txt`) where each line is a single, correctly formatted, JSON object.\n",
    "\n",
    "\n",
    "### 2.3.1. The Catalog Schema\n",
    "\n",
    "Each JSON object provided to the Catalog in the metadata file should be structured according to the Catalog schema, which is based on [JSON Schema](https://json-schema.org/): a vocabulary that allows you to annotate and validate JSON documents.\n",
    "\n",
    "The implication is that you will have to format your metadata objects to conform to this standard. At the core of this standard are the concepts of a **dataset** and a **file**, which shouldn't be suprising to anyone working with data: we have a set of files organized in some kind of hierarchy, and sets of files are often delineated from other sets of files (here we call this delineation a *dataset*). There are a few core specifications of metadata objects within the context of the Catalog schema:\n",
    "\n",
    "1. A metadata object can only be about a dataset or a file (its `type`).\n",
    "2. Each metadata object has multiple \"key/value\"-pairs that describe it. For example, an object of type `dataset` might have a `name` (key) equal to `my_test_dataset` (value), and a `keywords` field equal to the list `[\"quick\", \"brown\", \"fox\"]` (value). An object of type `file` might have a `format` (key) equal to `JSON` (value).\n",
    "3. Each metadata object should have a way to identify its related dataset. For an object of type `dataset`, this will be the `dataset_id` and `dataset_version` of the actual dataset. For an object of type `file`, this will be the `dataset_id` and `dataset_version` of its parent dataset (i.e. the dataset which the file forms part of).\n",
    "4. Each metadata object of type `file` should have a `path` key for which the value specifies exactly where the file is located relative to the root directory of its parent dataset.\n",
    "5. Datasets can have subdatasets.\n",
    "6. The Catalog schema specifies exactly which fields are required and which data types are accepted for each key/value-pair.\n",
    "\n",
    "For an improved understanding of the Catalog schema, you can inspect the [JSON documents here](https://github.com/datalad/datalad-catalog/tree/main/datalad_catalog/templates) (`jsonschema_*`)\n",
    "\n",
    "Here is a toy example of three metadata objects.\n",
    "\n",
    "First a dataset:\n",
    "\n",
    "```json\n",
    "{\n",
    "    \"type\": \"dataset\",\n",
    "    \"dataset_id\":\"abcd\",\n",
    "    \"dataset_version\":\"1234\",\n",
    "    \"name\": \"My toy dataset\",\n",
    "    \"short_name\": \"My toy dataset\",\n",
    "    \"description\": \"Lorem ipsum dolor sit amet, consectetur adipiscing elit. Phasellus nec justo tellus. Nunc sagittis eleifend magna, eu blandit arcu tincidunt eu. Mauris pharetra justo nec volutpat euismod. Curabitur bibendum vitae nunc a pharetra. Donec non rhoncus risus, ac consequat purus. Pellentesque ultricies ut enim non luctus. Sed viverra dolor enim, sed blandit lorem interdum sit amet. Aenean tincidunt et dolor sit amet tincidunt. Vivamus in sollicitudin ligula. Curabitur volutpat sapien erat, eget consectetur mauris dapibus a. Phasellus fringilla justo ligula, et fringilla tortor ullamcorper id. Praesent tristique lacus purus, eu convallis quam vestibulum eget. Donec ullamcorper mi neque, vel tincidunt augue porttitor vel.\",\n",
    "    \"doi\": \"\",\n",
    "    \"url\": [\"https://github.com/jsheunis/multi-echo-super\"],\n",
    "    \"license\": {\n",
    "      \"name\": \"CC BY 4.0\",\n",
    "      \"url\": \"https://creativecommons.org/licenses/by/4.0/\"\n",
    "    },\n",
    "    \"authors\": [\n",
    "        {\n",
    "            \"givenName\":\"Stephan\",\n",
    "            \"familyName\":\"Heunis\",\n",
    "        }\n",
    "    ],\n",
    "    \"keywords\": [\"lorum\", \"ipsum\", \"foxes\"],\n",
    "    \"funding\": [\n",
    "        {\n",
    "            \"name\":\"Stephan's Bank Account\",\n",
    "            \"identifier\":\"No. 42\",\n",
    "            \"description\":\"Nothing to see here\"\n",
    "        }\n",
    "    ],\n",
    "    \"extractors_used\": [\n",
    "        {\n",
    "            \"extractor_name\": \"stephan_manual\",\n",
    "            \"extractor_version\": \"1\",\n",
    "            \"extraction_parameter\": {},\n",
    "            \"extraction_time\": 1652340647.0,\n",
    "            \"agent_name\": \"Stephan Heunis\",\n",
    "            \"agent_email\": \"\"\n",
    "        }\n",
    "    ]\n",
    "}\n",
    "```\n",
    "\n",
    "And then two of its files:\n",
    "\n",
    "```json\n",
    "{\n",
    "    \"type\": \"file\"\n",
    "    \"dataset_id\": \"abcd\",\n",
    "    \"dataset_version\": \"1234\",\n",
    "    \"contentbytesize\": 1403\n",
    "    \"path\": \"README\",\n",
    "    \"extractors_used\": [\n",
    "        {\n",
    "            \"extractor_name\": \"stephan_manual\",\n",
    "            \"extractor_version\": \"1\",\n",
    "            \"extraction_parameter\": {},\n",
    "            \"extraction_time\": 1652340647.0,\n",
    "            \"agent_name\": \"Stephan Heunis\",\n",
    "            \"agent_email\": \"\"\n",
    "        }\n",
    "    ]\n",
    "}\n",
    "{\n",
    "    \"type\": \"file\"\n",
    "    \"dataset_id\": \"abcd\",\n",
    "    \"dataset_version\": \"1234\",\n",
    "    \"contentbytesize\": 15572\n",
    "    \"path\": \"main_data/main_results.png\",\n",
    "    \"extractors_used\": [\n",
    "        {\n",
    "            \"extractor_name\": \"stephan_manual\",\n",
    "            \"extractor_version\": \"1\",\n",
    "            \"extraction_parameter\": {},\n",
    "            \"extraction_time\": 1652340647.0,\n",
    "            \"agent_name\": \"Stephan Heunis\",\n",
    "            \"agent_email\": \"\"\n",
    "        }\n",
    "    ]\n",
    "}\n",
    "```\n",
    "\n",
    "These objects are also contained in the `test_data/toy_metadata.jsonl` file:"
   ]
  },
  {
   "cell_type": "code",
   "execution_count": null,
   "id": "2357d1ab",
   "metadata": {},
   "outputs": [],
   "source": [
    "cat $WORKING_DIRECTORY/test_data/toy_metadata.jsonl | jq ."
   ]
  },
  {
   "cell_type": "markdown",
   "id": "42e87c94",
   "metadata": {},
   "source": [
    "\n",
    "### 2.3.2. Validating your metadata: `datalad catalog validate`\n",
    "\n",
    "For convenience during metadata setup and catalog generation, the Catalog has the `validate` command that let's you test whether your metadata conforms to the Catalog schema before adding it:\n",
    "\n",
    "```bash\n",
    "datalad catalog validate -m <path_to_metadata_file>\n",
    "```\n",
    "\n",
    "Let's test this on the toy metadata:"
   ]
  },
  {
   "cell_type": "code",
   "execution_count": null,
   "id": "94400837",
   "metadata": {},
   "outputs": [],
   "source": [
    "datalad catalog validate -m $WORKING_DIRECTORY/test_data/toy_metadata.jsonl"
   ]
  },
  {
   "cell_type": "markdown",
   "id": "129f55cd",
   "metadata": {},
   "source": [
    "Great, we have valid metadata!\n",
    "\n",
    "Take note that this validator also runs internally whenever metadata is added to the catalog, so there is no need to run validation explicitly unless you want you.\n",
    "\n",
    "### 2.3.3. Adding metadata: `datalad catalog add`\n",
    "\n",
    "Next, let's add our valid metadata to the catalog!"
   ]
  },
  {
   "cell_type": "code",
   "execution_count": null,
   "id": "bbe3cf58",
   "metadata": {},
   "outputs": [],
   "source": [
    "datalad catalog add -c $CATALOG_PATH -m $WORKING_DIRECTORY/test_data/toy_metadata.jsonl"
   ]
  },
  {
   "cell_type": "markdown",
   "id": "734df6f4",
   "metadata": {},
   "source": [
    "The `catalog add(ok)` result indicates that our metadata was added successfully to the catalog. You can inspect this by looking at the content of the metadata directory inside the catalog:"
   ]
  },
  {
   "cell_type": "code",
   "execution_count": null,
   "id": "6f25e6fe",
   "metadata": {},
   "outputs": [],
   "source": [
    "tree $WORKING_DIRECTORY/test_catalog/"
   ]
  },
  {
   "cell_type": "markdown",
   "id": "64c7043f",
   "metadata": {},
   "source": [
    "Where previously the `metadata` directory contained nothing, it now has several subdirectories and two `.json`-files. Note, first, that the first two recursive subdirectory names correspond respectively to the `dataset_id` and `dataset_version` of the dataset in the toy metadata that we added to the catalog. This supports the DataLad Catalog's ability to identify specific datasets and their files by ID and version in order to update the catalog easily (and, when it comes to decentralized contribution, without conflicts). The subdirectories further down the hierarchy, as well as the filenames, are just hashes the path to the specific directory node relative to the parent dataset. Let's look at the content of these files:"
   ]
  },
  {
   "cell_type": "code",
   "execution_count": null,
   "id": "482fd04f",
   "metadata": {},
   "outputs": [],
   "source": [
    "cat $WORKING_DIRECTORY/test_catalog/metadata/abcd/1234/217/17d85bd1b1526b7e463279763cdb0.json | jq .\n",
    "cat $WORKING_DIRECTORY/test_catalog/metadata/abcd/1234/10f/7898cf7fc3465f078a67e15124c72.json | jq ."
   ]
  },
  {
   "cell_type": "markdown",
   "id": "594494e3",
   "metadata": {},
   "source": [
    "As you can see, the content of these files is very similar to the original toy data, but slightly transformed. This transformation creates a structure that is easier for the associated browser application to read and render. Additionally, structuring data into metadata files that represent nodes in the dataset hierarchy (i.e. a datasets or directories) allows the browser application to only access the data in those metadata files whenever the user selects the applicable node. This saves loading time which makes the user experience more seamless.\n",
    "\n",
    "### 2.3.4. Viewing a particular dataset\n",
    "\n",
    "That was everything that happened behind the scenes during the `datalad catalog add` procedure, but what does our updated catalog look like? Let's take a look. If you navigate to the HTTP server tab/window that you opened previously, and hit refresh, you should see... no change?!\n",
    "\n",
    "The reason for this is that we didn't specify the details of the particular dataset that we want to view.\n",
    "\n",
    "If we want to view the specific dataset that we just added to the catalog, we can specify its `dataset_id` and `dataset_version` by appending them to the URL in the format: `/#/dataset/<dataset_id>/<dataset_version>`. This makes it possible to view any uniquely identifiable dataset by navigating to a unique URL.\n",
    "\n",
    "Let's try it with out example. Go to the HTTP server tab/window, make sure that you are located in the `test_catalog` directory (the 404 page should be displaying), append `/#/dataset/abcd/1234` to the end of the URL, and hit ENTER/RETURN. You should see something like this:\n",
    "\n",
    "<br>\n",
    "<div style=\"text-align:center;\">\n",
    "    <img src=\"./pics/dataset_view_subdatasets.png\" width=\"75%\" style=\"border: 1px solid black\"></img>\n",
    "    <h5>The rendered catalog, showing the dataset view with the subdatasets tab</h5>\n",
    "</div>\n",
    "\n",
    "The is the dataset view, with the subdatasets tab (auto-)selected. This view displays all the main content related to the dataset that was provided by the metadata, and allows the user further functionality like downloading the dataset with DataLad, downloading the metadata, filtering subdatasets by keyword, browsing files, and viewing extended attributes such as funding information related to the dataset. Below are two more views, the first with the files tab selected, and the second with the funding tab selected.\n",
    "\n",
    "<br>\n",
    "<div style=\"text-align:center;\">\n",
    "    <img src=\"./pics/dataset_view_files.png\" width=\"75%\" style=\"border: 1px solid black\"></img>\n",
    "    <h5>The rendered catalog, showing the dataset view with the files tab</h5>\n",
    "    <br>\n",
    "    <img src=\"./pics/dataset_view_funding.png\" width=\"75%\" style=\"border: 1px solid black\"></img>\n",
    "    <h5>The rendered catalog, showing the dataset view with the funding tab</h5>\n",
    "</div>"
   ]
  },
  {
   "cell_type": "markdown",
   "id": "de400f99",
   "metadata": {},
   "source": [
    "<div id=\"catalog_super\"></div>\n",
    "\n",
    "## 2.4. Setting the default dataset of a catalog: `datalad catalog set-super`\n",
    "\n",
    "When one navigates to a specific catalog's root address (in our toy case: `$WORKING_DIRECTORY/test_catalog`), i.e. without a `dataset_id` and `dataset_version` specified in the URL, the browser application checks if a so-called \"superdataset\" is specified for the catalog. If not, it renders the 404 page.\n",
    "\n",
    "The specification of a superdataset could be useful for cases where the catalog, when navigated to, should always render the top-level list of available datasets in the catalog (provided by the metadata as subdatasets to the superdataset).\n",
    "\n",
    "Let's add our toy dataset as the catalog's superdataset, using the `-s/--set-super` flag and additionally specifying the dataset's `dataset_id` (`-i/--dataset-id` flag) and `dataset_version` (`-v/--dataset-version` flag):"
   ]
  },
  {
   "cell_type": "code",
   "execution_count": null,
   "id": "f9fd0ac9",
   "metadata": {},
   "outputs": [],
   "source": [
    "datalad catalog set-super -c $WORKING_DIRECTORY/test_catalog -i abcd -v 1234"
   ]
  },
  {
   "cell_type": "markdown",
   "id": "08abcf77",
   "metadata": {},
   "source": [
    "The `catalog set-super(ok)` result shows that the superdataset was successfully ser for the catalog, and you will now also be able to see an additional `super.json` file in the catalog metadata directory. The content of this file is a simple JSON object specifying the superdataset's `dataset_id` and `dataset_version`:"
   ]
  },
  {
   "cell_type": "code",
   "execution_count": null,
   "id": "2be451c6",
   "metadata": {},
   "outputs": [],
   "source": [
    "tree $WORKING_DIRECTORY/test_catalog/metadata\n",
    "cat $WORKING_DIRECTORY/test_catalog/metadata/super.json"
   ]
  },
  {
   "cell_type": "markdown",
   "id": "6cdf9f10",
   "metadata": {},
   "source": [
    "*Now*, when one navigates to the catalog's root address without a `dataset_id` and `dataset_version` specified in the URL, the browser application will find that a superdataset is indeed specified for the catalog, and it will navigate to that specific dataset view."
   ]
  },
  {
   "cell_type": "markdown",
   "id": "78e2574d",
   "metadata": {},
   "source": [
    "<div id=\"catalog_config\"></div>\n",
    "\n",
    "## 2.4. Catalog configuration\n",
    "\n",
    "A useful feature of the catalog process is to be able to configure certain properties according to your preferences. This is done with help of a config file (in either `JSON` or `YAML` format) and the `-y/--config-file` flag during catalog generation. DataLad Catalog provides a default config file with the following content:"
   ]
  },
  {
   "cell_type": "code",
   "execution_count": null,
   "id": "bdfa36ac",
   "metadata": {},
   "outputs": [],
   "source": [
    "cat $WORKING_DIRECTORY/datalad-catalog/datalad_catalog/templates/config.json | jq ."
   ]
  },
  {
   "cell_type": "markdown",
   "id": "55318a69",
   "metadata": {},
   "source": [
    "If no config file is supplied, the default is used. Let's create a new toy catalog with a config, specifying a new name, a new logo, and new colours for the links. For your convenience, a toy version of such a config file has been prepared:"
   ]
  },
  {
   "cell_type": "code",
   "execution_count": null,
   "id": "cfd2e0c3",
   "metadata": {},
   "outputs": [],
   "source": [
    "cat $WORKING_DIRECTORY/test_data/toy_config.yml"
   ]
  },
  {
   "cell_type": "markdown",
   "id": "7103bb00",
   "metadata": {},
   "source": [
    "Note that the `logo_path` is an absolute path to an image in the `tutorials/notebooks/catalog_tutorials/test_data/` location. If you are running this tutorial on your own system, you will have to update this path to point to the correct location. On Binder, it has been pre-filled correctly. Now let's create the catalog:"
   ]
  },
  {
   "cell_type": "code",
   "execution_count": null,
   "id": "71cbb6d6",
   "metadata": {},
   "outputs": [],
   "source": [
    "# new catalog name\n",
    "NEW_CATALOG_PATH=\"$WORKING_DIRECTORY/test_catalog_config\"\n",
    "# create the catalog, with config file and metadata\n",
    "datalad catalog create -c $NEW_CATALOG_PATH -m $WORKING_DIRECTORY/test_data/toy_metadata.jsonl -y $WORKING_DIRECTORY/test_data/toy_config.yml\n",
    "# set the catalog superdataset\n",
    "datalad catalog set-super -c $NEW_CATALOG_PATH -i abcd -v 1234"
   ]
  },
  {
   "cell_type": "markdown",
   "id": "aa96f773",
   "metadata": {},
   "source": [
    "To test this, open a new HTTP Server tab/window and navigate to `tutorials/notebooks/catalog_tutorials`, and then open the new `test_catalog_config` catalog. You should see the following:\n",
    "\n",
    "<br>\n",
    "<div style=\"text-align:center;\">\n",
    "    <img src=\"./pics/dataset_view_funky.png\" width=\"75%\" style=\"border: 1px solid black\"></img>\n",
    "    <h5>The new catalog created with a config file (apologies if you find the colours a bit loud :-P)</h5>\n",
    "</div>\n"
   ]
  },
  {
   "cell_type": "markdown",
   "id": "526ccdf9",
   "metadata": {},
   "source": [
    "Well done! You have just configured your catalog with a custom logo and colour scheme!\n",
    "\n",
    "The configuration will also come in handy when there are more advanced forms of metadata in a catalog, especially when multiple sources of metadata are available for the same dataset. In such cases, one might want to specify or prioritise how these multiple sources are displayed, and the catalog configuration allows for that via specification of the `property_source` key. Examples of this usage will be covered in a next tutorial."
   ]
  },
  {
   "cell_type": "markdown",
   "id": "f0ca2446",
   "metadata": {},
   "source": [
    "<div id=\"catalog_remove\"></div>\n",
    "\n",
    "## 2.5. Removing catalog metadata\n",
    "\n",
    "Another basic feature of DataLad Catalog is metadata removal. It is conceivable when maintaining a catalog that one might want to remove (subsets of) metadata. For example, if a particular new dataset, or a specific new version of an existing dataset, was added to the catalog incorrectly, it is esy enough to remove the incorrect addition by using the `remove` command and the `-i/--dataset-id` and `-v/--dataset-version` flags:\n",
    "\n",
    "***to be completed...***"
   ]
  },
  {
   "cell_type": "markdown",
   "id": "f02351ea",
   "metadata": {},
   "source": [
    "# 3. Next steps\n",
    "\n",
    "Congratulations. You now know how to install DataLad Catalog and how to employ its basic features in order to create and configure a browser-based catalog from structured metadata.\n",
    "\n",
    "You might want to explore further to find out how to build more advanced metadata handling and catalog generation workflows. If so, consider these tutorials:\n",
    "\n",
    "### Tutorial 2 - Metadata handling - *to be completed*\n",
    "\n",
    "This tutorial gives an overview of and hands-on experience with the metadata handling capabilities of DataLad MetaLad, including:\n",
    "- adding metadata to a DataLad dataset\n",
    "- extracting metadata from a DataLad dataset\n",
    "- aggregating and dumping metadata\n",
    "- handling dataset- and file-level metadata\n",
    "\n",
    "### Tutorial 3 - A full cataloging pipeline - *to be completed*\n",
    "\n",
    "This tutorial takes you through the steps of:\n",
    "- dataset structuring with DataLad\n",
    "- metadata addition and extraction with DataLad MetaLad\n",
    "- translating metadata into the catalog schema\n",
    "- catalog generation and testing with DataLad Catalog\n",
    "- publishing your catalog online\n",
    "\n",
    "### Tutorial 4 - Distributed catalog generation - *to be completed*"
   ]
  }
 ],
 "metadata": {
  "kernelspec": {
   "display_name": "Bash",
   "language": "bash",
   "name": "bash"
  },
  "language_info": {
   "codemirror_mode": "shell",
   "file_extension": ".sh",
   "mimetype": "text/x-sh",
   "name": "bash"
  }
 },
 "nbformat": 4,
 "nbformat_minor": 5
}
